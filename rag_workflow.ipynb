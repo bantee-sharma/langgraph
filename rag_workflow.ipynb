{
 "cells": [
  {
   "cell_type": "markdown",
   "id": "7d7b9b27",
   "metadata": {},
   "source": [
    "##  RAG Pipeline"
   ]
  },
  {
   "cell_type": "code",
   "execution_count": 25,
   "id": "effc74b0",
   "metadata": {},
   "outputs": [],
   "source": [
    "from langgraph.graph import StateGraph, END, START\n",
    "from langchain_google_genai import ChatGoogleGenerativeAI\n",
    "from dotenv import load_dotenv\n",
    "from typing import TypedDict, Annotated\n",
    "from pydantic import BaseModel, Field\n",
    "import operator\n",
    "from langchain_google_genai import GoogleGenerativeAIEmbeddings\n",
    "from langchain_core.prompts import PromptTemplate\n",
    "from langchain_community.vectorstores import FAISS\n",
    "from pathlib import Path\n",
    "from langchain_community.document_loaders import PyPDFLoader, TextLoader, UnstructuredWordDocumentLoader\n",
    "from langchain.text_splitter import RecursiveCharacterTextSplitter"
   ]
  },
  {
   "cell_type": "code",
   "execution_count": 4,
   "id": "37ac9ba0",
   "metadata": {},
   "outputs": [],
   "source": [
    "load_dotenv()\n",
    "llm = ChatGoogleGenerativeAI(model=\"gemini-2.0-flash\")"
   ]
  },
  {
   "cell_type": "code",
   "execution_count": 43,
   "id": "c587399f",
   "metadata": {},
   "outputs": [],
   "source": [
    "embedd = GoogleGenerativeAIEmbeddings(model=\"models/embedding-001\")"
   ]
  },
  {
   "cell_type": "code",
   "execution_count": 9,
   "id": "3ca4b51e",
   "metadata": {},
   "outputs": [
    {
     "data": {
      "text/plain": [
       "'Hi there! How can I help you today?'"
      ]
     },
     "execution_count": 9,
     "metadata": {},
     "output_type": "execute_result"
    }
   ],
   "source": [
    "llm.invoke(\"hii\").content"
   ]
  },
  {
   "cell_type": "code",
   "execution_count": 55,
   "id": "3177f1d6",
   "metadata": {},
   "outputs": [],
   "source": [
    "def read_docs(folder_name):\n",
    "    all_docd = []\n",
    "\n",
    "    for i in Path(folder_name).glob(\"*\"):\n",
    "        if i.suffix == \".pdf\":\n",
    "            loader = PyPDFLoader(str(i))\n",
    "        elif i.suffix == \".text\":\n",
    "            loader = TextLoader(i,\"utf-8\")\n",
    "        elif i.suffix == \".docx\":\n",
    "            loader = UnstructuredWordDocumentLoader(i,\"utf-8\")    \n",
    "        else:\n",
    "            pass\n",
    "\n",
    "        docs = loader.load()\n",
    "        all_docd.extend(docs)\n",
    "    return all_docd"
   ]
  },
  {
   "cell_type": "code",
   "execution_count": 56,
   "id": "97bc1201",
   "metadata": {},
   "outputs": [],
   "source": [
    "folder_name = \"docss\""
   ]
  },
  {
   "cell_type": "code",
   "execution_count": 57,
   "id": "cb085357",
   "metadata": {},
   "outputs": [],
   "source": [
    "documents = read_docs(folder_name=folder_name)"
   ]
  },
  {
   "cell_type": "code",
   "execution_count": 58,
   "id": "8b64d202",
   "metadata": {},
   "outputs": [],
   "source": [
    "text_splitter = RecursiveCharacterTextSplitter(chunk_size = 100,chunk_overlap=50)\n",
    "chunks = text_splitter.split_documents(documents=documents)"
   ]
  },
  {
   "cell_type": "code",
   "execution_count": 59,
   "id": "9d47c02f",
   "metadata": {},
   "outputs": [],
   "source": [
    "vector_store = FAISS.from_documents(chunks,embedd)\n",
    "retriever = vector_store.as_retriever(search_type=\"similarity\",kwargs={\"k\":5})\n"
   ]
  },
  {
   "cell_type": "code",
   "execution_count": 60,
   "id": "7bae15d1",
   "metadata": {},
   "outputs": [
    {
     "name": "stdout",
     "output_type": "stream",
     "text": [
      "Primarykey:Aprimarykeyisafieldinatablethatuniquelyidentifieseachrow/recordinadatabasetable.PrimarykForeignKey:AforeignkeyisacolumnoracombinationofcolumnswhosevaluesmatchaPrimaryKeyinadifferenttable.selfconsideringemp_idastheprimarykeyandmanager_idastheforeignkey.Query:\n"
     ]
    }
   ],
   "source": [
    "question = \"what is primary key\"\n",
    "retriever_docs = retriever.invoke(question)\n",
    "context = \"\".join([i.page_content for i in retriever_docs])\n",
    "print(context)"
   ]
  },
  {
   "cell_type": "code",
   "execution_count": null,
   "id": "d18a67db",
   "metadata": {},
   "outputs": [],
   "source": []
  },
  {
   "cell_type": "code",
   "execution_count": null,
   "id": "536c1281",
   "metadata": {},
   "outputs": [],
   "source": []
  },
  {
   "cell_type": "code",
   "execution_count": null,
   "id": "0373cc19",
   "metadata": {},
   "outputs": [],
   "source": []
  }
 ],
 "metadata": {
  "kernelspec": {
   "display_name": ".venv",
   "language": "python",
   "name": "python3"
  },
  "language_info": {
   "codemirror_mode": {
    "name": "ipython",
    "version": 3
   },
   "file_extension": ".py",
   "mimetype": "text/x-python",
   "name": "python",
   "nbconvert_exporter": "python",
   "pygments_lexer": "ipython3",
   "version": "3.12.5"
  }
 },
 "nbformat": 4,
 "nbformat_minor": 5
}
