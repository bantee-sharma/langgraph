{
 "cells": [
  {
   "cell_type": "code",
   "execution_count": 6,
   "metadata": {},
   "outputs": [],
   "source": [
    "from langchain_google_genai import ChatGoogleGenerativeAI\n",
    "from dotenv import load_dotenv\n",
    "from langgraph.graph import StateGraph, END, START, add_messages\n",
    "from typing import TypedDict, Annotated"
   ]
  },
  {
   "cell_type": "code",
   "execution_count": 3,
   "id": "7f1957d2",
   "metadata": {},
   "outputs": [],
   "source": [
    "load_dotenv()\n",
    "llm = ChatGoogleGenerativeAI(model=\"gemini-2.5-flash\")"
   ]
  },
  {
   "cell_type": "code",
   "execution_count": 8,
   "id": "d312f8bb",
   "metadata": {},
   "outputs": [],
   "source": [
    "class JokeState(TypedDict):\n",
    "    topic: str\n",
    "    joke: str\n",
    "    exp: str"
   ]
  },
  {
   "cell_type": "code",
   "execution_count": 9,
   "id": "7945c725",
   "metadata": {},
   "outputs": [],
   "source": [
    "def gen_joke(state: JokeState):\n",
    "\n",
    "    prompt = f\"Generate a joke on the following topic: \\n{state[\"topic\"]}\"\n",
    "    response = llm.invoke(prompt)\n",
    "    return {\"joke\":response}"
   ]
  },
  {
   "cell_type": "code",
   "execution_count": 10,
   "id": "f10183a9",
   "metadata": {},
   "outputs": [],
   "source": [
    "def exp_joke(state: JokeState):\n",
    "\n",
    "    prompt = f\"Explain the following joke: \\n {state[\"joke\"]}\"\n",
    "    response = llm.invoke(prompt)\n",
    "    return {\"exp\":response}"
   ]
  },
  {
   "cell_type": "code",
   "execution_count": 11,
   "id": "2f41516d",
   "metadata": {},
   "outputs": [],
   "source": [
    "graph = StateGraph(JokeState)\n",
    "\n",
    "graph.add_node(\"gen_joke\",gen_joke)\n",
    "graph.add_node(\"exp_joke\",exp_joke)\n",
    "\n",
    "graph.add_edge(START,\"gen_joke\")\n",
    "graph.add_edge(\"gen_joke\",\"exp_joke\")\n",
    "graph.add_edge(\"exp_joke\",END)\n",
    "\n",
    "workflow = graph.compile()"
   ]
  },
  {
   "cell_type": "code",
   "execution_count": 13,
   "id": "1ab68c01",
   "metadata": {},
   "outputs": [],
   "source": [
    "initial_state = {\"topic\":\"pizza\"}\n",
    "final_state = workflow.invoke(initial_state)"
   ]
  },
  {
   "cell_type": "code",
   "execution_count": 16,
   "id": "274578de",
   "metadata": {},
   "outputs": [
    {
     "data": {
      "text/plain": [
       "'This joke is a pun that plays on two phrases that sound very similar:\\n\\n1.  **\"Deep dish\"**: This refers to a specific type of pizza that has a very thick crust and is baked in a deep pan, allowing for a lot of cheese and toppings.\\n2.  **\"Distressed\"**: This word means suffering from anxiety, sorrow, or pain; feeling troubled or worried. It\\'s a stronger way of saying \"sad.\"\\n\\nThe joke combines \"deep dish\" (the pizza type) with \"distressed\" (the emotional state) to create \"deep dish-tressed.\" The humor comes from the clever wordplay, linking the physical characteristic of a pizza to the feeling of sadness.'"
      ]
     },
     "execution_count": 16,
     "metadata": {},
     "output_type": "execute_result"
    }
   ],
   "source": [
    "final_state[\"exp\"].content"
   ]
  },
  {
   "cell_type": "code",
   "execution_count": 12,
   "id": "d256d986",
   "metadata": {},
   "outputs": [
    {
     "data": {
      "image/png": "[encoded data removed]",
      "text/plain": [
       "<langgraph.graph.state.CompiledStateGraph object at 0x00000201793AE7E0>"
      ]
     },
     "execution_count": 12,
     "metadata": {},
     "output_type": "execute_result"
    }
   ],
   "source": [
    "workflow"
   ]
  },
  {
   "cell_type": "code",
   "execution_count": null,
   "id": "06adb2a7",
   "metadata": {},
   "outputs": [],
   "source": []
  }
 ],
 "metadata": {
  "kernelspec": {
   "display_name": ".venv",
   "language": "python",
   "name": "python3"
  },
  "language_info": {
   "codemirror_mode": {
    "name": "ipython",
    "version": 3
   },
   "file_extension": ".py",
   "mimetype": "text/x-python",
   "name": "python",
   "nbconvert_exporter": "python",
   "pygments_lexer": "ipython3",
   "version": "3.12.5"
  }
 },
 "nbformat": 4,
 "nbformat_minor": 5
}
