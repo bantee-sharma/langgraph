{
 "cells": [
  {
   "cell_type": "code",
   "execution_count": 1,
   "id": "b1f08468",
   "metadata": {},
   "outputs": [],
   "source": [
    "from langchain_google_genai import ChatGoogleGenerativeAI\n",
    "from dotenv import load_dotenv\n",
    "from typing import TypedDict, Annotated, Literal\n",
    "from pydantic import BaseModel, Field\n",
    "from langgraph.graph import StateGraph, END, START"
   ]
  },
  {
   "cell_type": "code",
   "execution_count": 2,
   "id": "9f288662",
   "metadata": {},
   "outputs": [],
   "source": [
    "llm = ChatGoogleGenerativeAI(model = \"gemini-2.0-flash\")"
   ]
  },
  {
   "cell_type": "code",
   "execution_count": 4,
   "id": "f38b37f2",
   "metadata": {},
   "outputs": [],
   "source": [
    "class SentimentSchema(BaseModel):\n",
    "    sentiment: Literal['positive','negative'] = Field(description=\"sentiment of the review\")"
   ]
  },
  {
   "cell_type": "code",
   "execution_count": null,
   "id": "77c879bf",
   "metadata": {},
   "outputs": [],
   "source": [
    "struc_llm = llm.with_structured_output(SentimentSchema) "
   ]
  },
  {
   "cell_type": "code",
   "execution_count": 3,
   "id": "852dd66b",
   "metadata": {},
   "outputs": [],
   "source": [
    "class ReviewState(TypedDict):\n",
    "\n",
    "    review: str\n",
    "    sentiment: Literal[\"positive\",\"negative\"]\n",
    "    response: str\n",
    "    diagnosis: dict \n",
    "    "
   ]
  },
  {
   "cell_type": "code",
   "execution_count": 8,
   "id": "84aa248e",
   "metadata": {},
   "outputs": [],
   "source": [
    "def find_sentiment(state: ReviewState):\n",
    "\n",
    "    prompt = f\"Find the sentiment of the following review: {state[\"review\"]}\"\n",
    "    resposne = struc_llm.invoke(prompt).sentiment\n",
    "\n",
    "    return {\"sentiment\":resposne}"
   ]
  },
  {
   "cell_type": "code",
   "execution_count": null,
   "id": "f05e759d",
   "metadata": {},
   "outputs": [],
   "source": [
    "\n",
    "def check_sentiment(state:ReviewState)-> Literal[\"positive_response\",\"run_diagnosis\"]:\n",
    "    if state[\"sentiment\"] == \"positive\":\n",
    "        return \"positive_response\"\n",
    "    else:\n",
    "        return \"run_diagnosis\""
   ]
  },
  {
   "cell_type": "code",
   "execution_count": null,
   "id": "bcd52c4f",
   "metadata": {},
   "outputs": [],
   "source": [
    "def run_diagnosis(State: ReviewState):\n",
    "\n",
    "    prompt = "
   ]
  },
  {
   "cell_type": "code",
   "execution_count": null,
   "id": "612a0935",
   "metadata": {},
   "outputs": [],
   "source": [
    "graph = StateGraph(ReviewState)\n",
    "\n",
    "graph.add_node(\"find_sentiment\",find_sentiment)\n",
    "graph.add_node(\"positive_response\",positive_response)\n",
    "graph.add_node(\"negative_response\",negative_response)"
   ]
  }
 ],
 "metadata": {
  "kernelspec": {
   "display_name": ".venv",
   "language": "python",
   "name": "python3"
  },
  "language_info": {
   "codemirror_mode": {
    "name": "ipython",
    "version": 3
   },
   "file_extension": ".py",
   "mimetype": "text/x-python",
   "name": "python",
   "nbconvert_exporter": "python",
   "pygments_lexer": "ipython3",
   "version": "3.12.5"
  }
 },
 "nbformat": 4,
 "nbformat_minor": 5
}
