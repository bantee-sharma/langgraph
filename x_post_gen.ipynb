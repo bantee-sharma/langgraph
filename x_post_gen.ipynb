{
 "cells": [
  {
   "cell_type": "code",
   "execution_count": 12,
   "id": "9e51b9e6",
   "metadata": {},
   "outputs": [],
   "source": [
    "from langgraph.graph import StateGraph, END, START\n",
    "from langchain_google_genai import ChatGoogleGenerativeAI\n",
    "from dotenv import load_dotenv\n",
    "from typing import TypedDict, Literal, Annotated\n",
    "from langchain_core.messages import SystemMessage, HumanMessage\n",
    "from pydantic import BaseModel, Field"
   ]
  },
  {
   "cell_type": "code",
   "execution_count": 13,
   "id": "0a3c7a32",
   "metadata": {},
   "outputs": [],
   "source": [
    "load_dotenv()\n",
    "\n",
    "gen_llm = ChatGoogleGenerativeAI(model=\"gemini-2.0-flash\")\n",
    "eva_llm = ChatGoogleGenerativeAI(model=\"gemini-2.0-flash\")\n",
    "opt_llm = ChatGoogleGenerativeAI(model=\"gemini-2.0-flash\")"
   ]
  },
  {
   "cell_type": "code",
   "execution_count": 14,
   "id": "95b5a6b4",
   "metadata": {},
   "outputs": [],
   "source": [
    "class TweetEvaluation(BaseModel):\n",
    "    evaluation: Literal[\"approved\", \"needs_improvement\"] = Field(..., description=\"Final evaluation result.\")\n",
    "    feedback: str = Field(..., description=\"feedback for the tweet.\")"
   ]
  },
  {
   "cell_type": "code",
   "execution_count": 15,
   "id": "073ac7f9",
   "metadata": {},
   "outputs": [],
   "source": [
    "struc_eva_llm = eva_llm.with_structured_output(TweetEvaluation)"
   ]
  },
  {
   "cell_type": "code",
   "execution_count": 27,
   "id": "fb70f8d4",
   "metadata": {},
   "outputs": [],
   "source": [
    "# state\n",
    "class TweetState(TypedDict):\n",
    "\n",
    "    topic: str\n",
    "    tweet: str\n",
    "    evaluation: Literal[\"approved\",\"needs_improvement\"]\n",
    "    feedback: str\n",
    "    iteration: int\n",
    "    max_iter: int"
   ]
  },
  {
   "cell_type": "code",
   "execution_count": 28,
   "id": "75721fcd",
   "metadata": {},
   "outputs": [],
   "source": [
    "def gen_tweet(state: TweetState):\n",
    "\n",
    "    prompt = [\n",
    "        SystemMessage(content=\"You are a funny and clever Twitter/X influencer.\"),\n",
    "        HumanMessage(content=f\"\"\"\n",
    "Write a short, original, and hilarious tweet on the topic: \"{state['topic']}\".\n",
    "\n",
    "Rules:\n",
    "- Do NOT use question-answer format.\n",
    "- Max 280 characters.\n",
    "- Use observational humor, irony, sarcasm, or cultural references.\n",
    "- Think in meme logic, punchlines, or relatable takes.\n",
    "- Use simple, day to day english\n",
    "\"\"\")\n",
    "    ]\n",
    "\n",
    "    response = gen_llm.invoke(prompt).content\n",
    "    return {\"tweet\":response}"
   ]
  },
  {
   "cell_type": "code",
   "execution_count": 29,
   "id": "5d93fe0e",
   "metadata": {},
   "outputs": [],
   "source": [
    "def evaluate_tweet(state: TweetState):\n",
    "    \n",
    "    prompt = [SystemMessage(content=\"You are a ruthless, no-laugh-given Twitter critic. You evaluate tweets based on humor, originality, virality, and tweet format.\"),\n",
    "    HumanMessage(content=f\"\"\"\n",
    "    Evaluate the following tweet:\n",
    "\n",
    "    Tweet: \"{state['tweet']}\"\n",
    "\n",
    "    Use the criteria below to evaluate the tweet:\n",
    "\n",
    "    1. Originality - Is this fresh, or have you seen it a hundred times before?  \n",
    "    2. Humor - Did it genuinely make you smile, laugh, or chuckle?  \n",
    "    3. Punchiness - Is it short, sharp, and scroll-stopping?  \n",
    "    4. Virality Potential - Would people retweet or share it?  \n",
    "    5. Format - Is it a well-formed tweet (not a setup-punchline joke, not a Q&A joke, and under 280 characters)?\n",
    "\n",
    "    Auto-reject if:\n",
    "    - It's written in question-answer format (e.g., \"Why did...\" or \"What happens when...\")\n",
    "    - It exceeds 280 characters\n",
    "    - It reads like a traditional setup-punchline joke\n",
    "    - Dont end with generic, throwaway, or deflating lines that weaken the humor (e.g., “Masterpieces of the auntie-uncle universe” or vague summaries)\n",
    "\n",
    "    ### Respond ONLY in structured format:\n",
    "    - evaluation: \"approved\" or \"needs_improvement\"  \n",
    "    - feedback: One paragraph explaining the strengths and weaknesses \n",
    "    \"\"\")\n",
    "    ]\n",
    "\n",
    "    response = struc_eva_llm.invoke(prompt)\n",
    "    return {\"evaluation\":response.evaluation, \"feedback\": response.feedback}"
   ]
  },
  {
   "cell_type": "code",
   "execution_count": 30,
   "id": "abc2b9f6",
   "metadata": {},
   "outputs": [],
   "source": [
    "def optimize_tweet(state: TweetEvaluation):\n",
    "    prompt = [\n",
    "        SystemMessage(content=\"You punch up tweets for virality and humor based on given feedback.\"),\n",
    "        HumanMessage(content=f\"\"\"\n",
    "    Improve the tweet based on this feedback:\n",
    "    \"{state['feedback']}\"\n",
    "\n",
    "    Topic: \"{state['topic']}\"\n",
    "    Original Tweet:\n",
    "    {state['tweet']}\n",
    "\n",
    "    Re-write it as a short, viral-worthy tweet. Avoid Q&A style and stay under 280 characters.\n",
    "    \"\"\")\n",
    "        ]\n",
    "\n",
    "    response = opt_llm.invoke(prompt).content\n",
    "    iteration = state[\"iteration\"]+1\n",
    "    return {'tweet': response, 'iteration': iteration}"
   ]
  },
  {
   "cell_type": "code",
   "execution_count": 31,
   "id": "ad28d96a",
   "metadata": {},
   "outputs": [],
   "source": [
    "def route_evaluation(state: TweetState):\n",
    "\n",
    "    if state['evaluation'] == 'approved' or state['iteration'] >= state['max_iteration']:\n",
    "        return 'approved'\n",
    "    else:\n",
    "        return 'needs_improvement'"
   ]
  },
  {
   "cell_type": "code",
   "execution_count": 32,
   "id": "ac650070",
   "metadata": {},
   "outputs": [
    {
     "data": {
      "image/png": "[encoded data removed]",
      "text/plain": [
       "<langgraph.graph.state.CompiledStateGraph object at 0x000002AA161F86B0>"
      ]
     },
     "execution_count": 32,
     "metadata": {},
     "output_type": "execute_result"
    }
   ],
   "source": [
    "graph = StateGraph(TweetState)\n",
    "\n",
    "graph.add_node(\"gen\", gen_tweet)\n",
    "graph.add_node(\"evaluate\", evaluate_tweet)\n",
    "graph.add_node(\"optimize\", optimize_tweet)\n",
    "\n",
    "graph.add_edge(START,\"gen\")\n",
    "graph.add_edge(\"gen\",\"evaluate\")\n",
    "graph.add_conditional_edges(\"evaluate\",route_evaluation, {\"approved\": END, \"needs_improvement\": \"optimize\"})\n",
    "graph.add_edge('optimize', 'evaluate')\n",
    "\n",
    "workflow = graph.compile()\n",
    "\n",
    "workflow\n"
   ]
  },
  {
   "cell_type": "code",
   "execution_count": 45,
   "id": "ddee10a6",
   "metadata": {},
   "outputs": [],
   "source": [
    "initial_state = {\n",
    "    \"topic\": \"srhberhb\",\n",
    "    \"iteration\": 1,\n",
    "    \"max_iteration\": 5\n",
    "}\n",
    "result = workflow.invoke(initial_state)"
   ]
  },
  {
   "cell_type": "code",
   "execution_count": 46,
   "id": "f363db4b",
   "metadata": {},
   "outputs": [
    {
     "data": {
      "text/plain": [
       "{'topic': 'srhberhb',\n",
       " 'tweet': 'Me trying to pronounce the name of any new tech startup these days: srhberhb. Sounds about right. Probably worth billions.',\n",
       " 'evaluation': 'approved',\n",
       " 'feedback': \"The tweet is concise, humorous, and relatable, capturing the difficulty of pronouncing new tech startup names. The 'srhberhb' approximation is funny and the 'Probably worth billions' adds a layer of irony. It has good virality potential because many people can relate to the experience. The tweet is also well-formatted and under 280 characters.\",\n",
       " 'iteration': 1}"
      ]
     },
     "execution_count": 46,
     "metadata": {},
     "output_type": "execute_result"
    }
   ],
   "source": [
    "result"
   ]
  },
  {
   "cell_type": "code",
   "execution_count": null,
   "id": "268d3f97",
   "metadata": {},
   "outputs": [],
   "source": []
  }
 ],
 "metadata": {
  "kernelspec": {
   "display_name": ".venv",
   "language": "python",
   "name": "python3"
  },
  "language_info": {
   "codemirror_mode": {
    "name": "ipython",
    "version": 3
   },
   "file_extension": ".py",
   "mimetype": "text/x-python",
   "name": "python",
   "nbconvert_exporter": "python",
   "pygments_lexer": "ipython3",
   "version": "3.12.5"
  }
 },
 "nbformat": 4,
 "nbformat_minor": 5
}
