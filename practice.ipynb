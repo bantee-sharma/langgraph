{
 "cells": [
  {
   "cell_type": "code",
   "execution_count": 1,
   "id": "596b1932",
   "metadata": {},
   "outputs": [],
   "source": [
    "from langgraph.graph import StateGraph, END, START\n",
    "from typing import TypedDict\n",
    "from pydantic import BaseModel, Field\n",
    "from langchain_google_genai import ChatGoogleGenerativeAI\n",
    "from dotenv import load_dotenv"
   ]
  },
  {
   "cell_type": "code",
   "execution_count": 3,
   "id": "e8ca80dd",
   "metadata": {},
   "outputs": [],
   "source": [
    "load_dotenv()\n",
    "\n",
    "llm = ChatGoogleGenerativeAI(model=\"gemini-2.0-flash\")"
   ]
  },
  {
   "cell_type": "code",
   "execution_count": 4,
   "id": "b0f48f88",
   "metadata": {},
   "outputs": [],
   "source": [
    "class FeedbackSchema(BaseModel):\n",
    "\n",
    "    feedback: str = Field(description=\"Feedback of the essay\")\n",
    "    score: int = Field(description=\"Give a score 1 to 10\",ge=0,lt=11)"
   ]
  },
  {
   "cell_type": "code",
   "execution_count": 5,
   "id": "1c9f3ee7",
   "metadata": {},
   "outputs": [],
   "source": [
    "structured_llm = llm.with_structured_output(FeedbackSchema)"
   ]
  },
  {
   "cell_type": "code",
   "execution_count": null,
   "id": "e4322edd",
   "metadata": {},
   "outputs": [],
   "source": []
  }
 ],
 "metadata": {
  "kernelspec": {
   "display_name": ".venv",
   "language": "python",
   "name": "python3"
  },
  "language_info": {
   "codemirror_mode": {
    "name": "ipython",
    "version": 3
   },
   "file_extension": ".py",
   "mimetype": "text/x-python",
   "name": "python",
   "nbconvert_exporter": "python",
   "pygments_lexer": "ipython3",
   "version": "3.12.5"
  }
 },
 "nbformat": 4,
 "nbformat_minor": 5
}
