{
 "cells": [
  {
   "cell_type": "code",
   "execution_count": 1,
   "id": "596b1932",
   "metadata": {},
   "outputs": [],
   "source": [
    "from langgraph.graph import StateGraph, END, START\n",
    "from typing import TypedDict\n",
    "from pydantic import BaseModel, Field\n",
    "from langchain_google_genai import ChatGoogleGenerativeAI\n",
    "from dotenv import load_dotenv"
   ]
  },
  {
   "cell_type": "code",
   "execution_count": 3,
   "id": "e8ca80dd",
   "metadata": {},
   "outputs": [],
   "source": [
    "load_dotenv()\n",
    "\n",
    "llm = ChatGoogleGenerativeAI(model=\"gemini-2.0-flash\")"
   ]
  },
  {
   "cell_type": "code",
   "execution_count": 4,
   "id": "b0f48f88",
   "metadata": {},
   "outputs": [],
   "source": [
    "class FeedbackSchema(BaseModel):\n",
    "\n",
    "    feedback: str = Field(description=\"Feedback of the essay\")\n",
    "    score: int = Field(description=\"Give a score 1 to 10\",ge=0,lt=11)"
   ]
  },
  {
   "cell_type": "code",
   "execution_count": 5,
   "id": "1c9f3ee7",
   "metadata": {},
   "outputs": [],
   "source": [
    "structured_llm = llm.with_structured_output(FeedbackSchema)"
   ]
  },
  {
   "cell_type": "code",
   "execution_count": 6,
   "id": "e4322edd",
   "metadata": {},
   "outputs": [],
   "source": [
    "essay = \"\"\"The Power of Curiosity: Humanity’s Driving Force\n",
    "Curiosity, that restless flicker of wonder, has shaped civilizations, birthed revolutions, and propelled humanity from the caves to the cosmos. It’s more than idle interest—it’s a compulsion to know, to explore, to unravel the “why” behind the “what.” In a world saturated with information, curiosity remains our compass, pointing toward deeper understanding.\n",
    "🔍 Curiosity as an Evolutionary Advantage\n",
    "From early humans crafting rudimentary tools to scientists decoding the human genome, curiosity has been central to survival and progress. Anthropologists argue that the urge to explore and question enabled Homo sapiens to adapt more effectively than other species. Our ancestors' desire to venture beyond familiar boundaries led to migrations, innovations, and the birth of language and culture.\n",
    "🚀 Invention and Innovation\n",
    "Every modern marvel, from electricity to artificial intelligence, began with a question no one had asked before. Think of Isaac Newton under his apple tree or Marie Curie probing the mysteries of radioactivity. Their breakthroughs were born not from instruction, but from insatiable curiosity. The most transformative inventors weren’t necessarily the smartest—they were the most inquisitive.\n",
    "🌐 Curiosity in the Digital Age\n",
    "Paradoxically, in today’s hyperconnected world, curiosity can be dulled by the instant gratification of search engines and algorithmic recommendations. But it still thrives—in citizen science projects, indie game development, backyard experiments, and late-night Wikipedia rabbit holes. Platforms like open-source repositories have democratized curiosity, allowing coders, tinkerers, and thinkers to collaborate and build knowledge in public.\n",
    "🧠 The Science of Wonder\n",
    "Neuroscience links curiosity to increased dopamine activity, reinforcing learning and memory. When we're curious, our brains reward us with pleasure—making it not just noble, but neurologically addictive. That’s why asking questions is a powerful pedagogical tool and why children, who ask hundreds of questions a day, are among the most effective learners.\n",
    "🌱 Cultivating Curiosity\n",
    "Curiosity isn’t reserved for the intellectually elite—it’s a mindset anyone can foster. Reading widely, embracing ambiguity, and resisting the temptation to settle for surface-level answers can reignite that fire. Even beginner gardeners or hobbyist programmers, when guided by curiosity, uncover insights that textbooks alone can’t teach.\n",
    "\n",
    "Curiosity isn’t just a trait—it’s the soul of progress. Whether decoding black holes or puzzling over a garden pest, it’s the question behind the question that fuels true discovery. And maybe, just maybe, that’s the most human trait of all.\n",
    "If you want me to spin this into something more poetic, debate-style, or tailored to a particular audience, I’d love to help!\n",
    "\"\"\""
   ]
  },
  {
   "cell_type": "code",
   "execution_count": 7,
   "id": "7d7ff07d",
   "metadata": {},
   "outputs": [],
   "source": [
    "prompt = f\"You are an intelligent AI. Give a detailed feedback and score 1 to 10 on the following essay:\\n {essay}\"\n",
    "output = structured_llm.invoke(prompt)"
   ]
  },
  {
   "cell_type": "code",
   "execution_count": null,
   "id": "a2cefe01",
   "metadata": {},
   "outputs": [],
   "source": []
  }
 ],
 "metadata": {
  "kernelspec": {
   "display_name": ".venv",
   "language": "python",
   "name": "python3"
  },
  "language_info": {
   "codemirror_mode": {
    "name": "ipython",
    "version": 3
   },
   "file_extension": ".py",
   "mimetype": "text/x-python",
   "name": "python",
   "nbconvert_exporter": "python",
   "pygments_lexer": "ipython3",
   "version": "3.12.5"
  }
 },
 "nbformat": 4,
 "nbformat_minor": 5
}
