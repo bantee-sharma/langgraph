{
 "cells": [
  {
   "cell_type": "code",
   "execution_count": 28,
   "id": "9e284b9d",
   "metadata": {},
   "outputs": [],
   "source": [
    "from langchain_google_genai import ChatGoogleGenerativeAI\n",
    "from pydantic import BaseModel, Field\n",
    "from typing import TypedDict, Literal\n",
    "from dotenv import load_dotenv\n",
    "from langgraph.graph import StateGraph, END, START"
   ]
  },
  {
   "cell_type": "code",
   "execution_count": 3,
   "id": "fa0a4923",
   "metadata": {},
   "outputs": [],
   "source": [
    "load_dotenv()\n",
    "llm = ChatGoogleGenerativeAI(model=\"gemini-2.0-flash\")\n"
   ]
  },
  {
   "cell_type": "code",
   "execution_count": 20,
   "id": "fb3185f7",
   "metadata": {},
   "outputs": [],
   "source": [
    "class SentimentSchema(BaseModel):\n",
    "    sentiment: Literal[\"Postitive\",\"Negative\"] =  Field(description=\"Sentiment of the review\")"
   ]
  },
  {
   "cell_type": "code",
   "execution_count": 21,
   "id": "3296504d",
   "metadata": {},
   "outputs": [],
   "source": [
    "llm_structured = llm.with_structured_output(SentimentSchema)"
   ]
  },
  {
   "cell_type": "code",
   "execution_count": 24,
   "id": "95083ef8",
   "metadata": {},
   "outputs": [
    {
     "data": {
      "text/plain": [
       "'Postitive'"
      ]
     },
     "execution_count": 24,
     "metadata": {},
     "output_type": "execute_result"
    }
   ],
   "source": [
    "prompt = 'What is the sentiment of the following review - The software too good'\n",
    "llm_structured.invoke(prompt).sentiment"
   ]
  },
  {
   "cell_type": "code",
   "execution_count": 26,
   "id": "b3eb4eff",
   "metadata": {},
   "outputs": [],
   "source": [
    "class ReviewState(TypedDict):\n",
    "\n",
    "    review: str\n",
    "    sentiment: Literal[\"Positive\",\"Negative\"]\n",
    "    diagnosis: dict\n",
    "    response: str\n"
   ]
  },
  {
   "cell_type": "code",
   "execution_count": 27,
   "id": "2b126e05",
   "metadata": {},
   "outputs": [],
   "source": [
    "def find_setiment(state:ReviewState):\n",
    "\n",
    "    prompt = f'What is the sentiment of the following review: \\n {state[\"review\"]}'\n",
    "    sentiment = llm_structured.invoke(prompt).sentiment\n",
    "    return {\"sentiment\":sentiment}\n"
   ]
  },
  {
   "cell_type": "code",
   "execution_count": 30,
   "id": "d3fbeac7",
   "metadata": {},
   "outputs": [],
   "source": [
    "graph = StateGraph(ReviewState)\n",
    "\n",
    "graph.add_node(\"find_setiment\",find_setiment)\n",
    "\n",
    "graph.add_edge(START,\"find_setiment\")\n",
    "graph.add_edge(\"find_setiment\",END)\n",
    "\n",
    "workflow = graph.compile()"
   ]
  },
  {
   "cell_type": "code",
   "execution_count": 31,
   "id": "e507259c",
   "metadata": {},
   "outputs": [
    {
     "data": {
      "image/png": "[encoded data removed]",
      "text/plain": [
       "<langgraph.graph.state.CompiledStateGraph object at 0x000001B1D26F6D20>"
      ]
     },
     "execution_count": 31,
     "metadata": {},
     "output_type": "execute_result"
    }
   ],
   "source": [
    "workflow"
   ]
  },
  {
   "cell_type": "code",
   "execution_count": 32,
   "id": "68d2645c",
   "metadata": {},
   "outputs": [
    {
     "data": {
      "text/plain": [
       "{'review': 'software is toooo gooood', 'sentiment': 'Postitive'}"
      ]
     },
     "execution_count": 32,
     "metadata": {},
     "output_type": "execute_result"
    }
   ],
   "source": [
    "initia_state = {\"review\":\"software is toooo gooood\"}\n",
    "final_state = workflow.invoke(initia_state)\n",
    "final_state"
   ]
  },
  {
   "cell_type": "code",
   "execution_count": null,
   "id": "81172b68",
   "metadata": {},
   "outputs": [],
   "source": []
  }
 ],
 "metadata": {
  "kernelspec": {
   "display_name": ".venv",
   "language": "python",
   "name": "python3"
  },
  "language_info": {
   "codemirror_mode": {
    "name": "ipython",
    "version": 3
   },
   "file_extension": ".py",
   "mimetype": "text/x-python",
   "name": "python",
   "nbconvert_exporter": "python",
   "pygments_lexer": "ipython3",
   "version": "3.12.5"
  }
 },
 "nbformat": 4,
 "nbformat_minor": 5
}
