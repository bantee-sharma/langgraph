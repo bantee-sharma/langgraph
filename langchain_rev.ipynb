{
 "cells": [
  {
   "cell_type": "code",
   "execution_count": 18,
   "id": "71e94b93",
   "metadata": {},
   "outputs": [],
   "source": [
    "from langchain_google_genai import ChatGoogleGenerativeAI\n",
    "from dotenv import load_dotenv"
   ]
  },
  {
   "cell_type": "code",
   "execution_count": 19,
   "id": "db528126",
   "metadata": {},
   "outputs": [],
   "source": [
    "load_dotenv()\n",
    "llm = ChatGoogleGenerativeAI(model=\"gemini-2.0-flash\")\n"
   ]
  },
  {
   "cell_type": "markdown",
   "id": "a468d9db",
   "metadata": {},
   "source": [
    "## Simple AI Assitant"
   ]
  },
  {
   "cell_type": "code",
   "execution_count": null,
   "id": "01c10b04",
   "metadata": {},
   "outputs": [],
   "source": []
  },
  {
   "cell_type": "code",
   "execution_count": 20,
   "id": "75adf8f0",
   "metadata": {},
   "outputs": [
    {
     "name": "stdout",
     "output_type": "stream",
     "text": [
      "Byee, if you need any help just say hii...\n"
     ]
    }
   ],
   "source": [
    "while True:\n",
    "    question = input(\"Ask anything, Type quit and exit to end the chat\")\n",
    "    if question.lower().strip() in [\"quit\",\"exit\"]:\n",
    "        print(\"Byee, if you need any help just say hii...\")\n",
    "        break\n",
    "    else:\n",
    "        response = llm.invoke(question)\n",
    "        print(response.content)"
   ]
  },
  {
   "cell_type": "markdown",
   "id": "ecdec8f8",
   "metadata": {},
   "source": [
    "# YouTube search tool"
   ]
  },
  {
   "cell_type": "code",
   "execution_count": 21,
   "id": "8720e037",
   "metadata": {},
   "outputs": [],
   "source": [
    "from langchain_community.tools import YouTubeSearchTool,YouTubeSearchTool\n",
    "search = YouTubeSearchTool()"
   ]
  },
  {
   "cell_type": "code",
   "execution_count": 24,
   "id": "6f6bcf80",
   "metadata": {},
   "outputs": [
    {
     "data": {
      "text/plain": [
       "\"['https://www.youtube.com/watch?v=D1SaQpb9tCI&pp=ygUOVGVzbGEgaW4gaW5kaWE%3D', 'https://www.youtube.com/watch?v=Ucvf2aAhhyQ&pp=ygUOVGVzbGEgaW4gaW5kaWE%3D', 'https://www.youtube.com/shorts/LvwN72LwaO0', 'https://www.youtube.com/shorts/mWXeNZOrBho', 'https://www.youtube.com/shorts/k3-JB-icl8M']\""
      ]
     },
     "execution_count": 24,
     "metadata": {},
     "output_type": "execute_result"
    }
   ],
   "source": [
    "search.invoke(\"Tesla in india,5\")"
   ]
  },
  {
   "cell_type": "code",
   "execution_count": null,
   "id": "1d2497b7",
   "metadata": {},
   "outputs": [],
   "source": []
  }
 ],
 "metadata": {
  "kernelspec": {
   "display_name": ".venv",
   "language": "python",
   "name": "python3"
  },
  "language_info": {
   "codemirror_mode": {
    "name": "ipython",
    "version": 3
   },
   "file_extension": ".py",
   "mimetype": "text/x-python",
   "name": "python",
   "nbconvert_exporter": "python",
   "pygments_lexer": "ipython3",
   "version": "3.12.5"
  }
 },
 "nbformat": 4,
 "nbformat_minor": 5
}
