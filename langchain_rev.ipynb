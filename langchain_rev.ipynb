{
 "cells": [
  {
   "cell_type": "code",
   "execution_count": 17,
   "id": "71e94b93",
   "metadata": {},
   "outputs": [],
   "source": [
    "from langchain_google_genai import ChatGoogleGenerativeAI\n",
    "from dotenv import load_dotenv"
   ]
  },
  {
   "cell_type": "code",
   "execution_count": 18,
   "id": "db528126",
   "metadata": {},
   "outputs": [],
   "source": [
    "load_dotenv()\n",
    "llm = ChatGoogleGenerativeAI(model=\"gemini-2.0-flash\")\n"
   ]
  },
  {
   "cell_type": "markdown",
   "id": "a468d9db",
   "metadata": {},
   "source": [
    "## Simple AI Assitant"
   ]
  },
  {
   "cell_type": "code",
   "execution_count": null,
   "id": "01c10b04",
   "metadata": {},
   "outputs": [],
   "source": []
  },
  {
   "cell_type": "code",
   "execution_count": 20,
   "id": "75adf8f0",
   "metadata": {},
   "outputs": [
    {
     "name": "stdout",
     "output_type": "stream",
     "text": [
      "Byee, if you need any help just say hii...\n"
     ]
    }
   ],
   "source": [
    "while True:\n",
    "    question = input(\"Ask anything, Type quit and exit to end the chat\")\n",
    "    if question.lower().strip() in [\"quit\",\"exit\"]:\n",
    "        print(\"Byee, if you need any help just say hii...\")\n",
    "        break\n",
    "    else:\n",
    "        response = llm.invoke(question)\n",
    "        print(response.content)"
   ]
  },
  {
   "cell_type": "markdown",
   "id": "ecdec8f8",
   "metadata": {},
   "source": [
    "# YouTube search tool"
   ]
  },
  {
   "cell_type": "code",
   "execution_count": 21,
   "id": "8720e037",
   "metadata": {},
   "outputs": [],
   "source": [
    "from langchain_community.tools import YouTubeSearchTool,YouTubeSearchTool\n",
    "search = YouTubeSearchTool()"
   ]
  },
  {
   "cell_type": "code",
   "execution_count": 24,
   "id": "6f6bcf80",
   "metadata": {},
   "outputs": [
    {
     "data": {
      "text/plain": [
       "\"['https://www.youtube.com/watch?v=D1SaQpb9tCI&pp=ygUOVGVzbGEgaW4gaW5kaWE%3D', 'https://www.youtube.com/watch?v=Ucvf2aAhhyQ&pp=ygUOVGVzbGEgaW4gaW5kaWE%3D', 'https://www.youtube.com/shorts/LvwN72LwaO0', 'https://www.youtube.com/shorts/mWXeNZOrBho', 'https://www.youtube.com/shorts/k3-JB-icl8M']\""
      ]
     },
     "execution_count": 24,
     "metadata": {},
     "output_type": "execute_result"
    }
   ],
   "source": [
    "search.invoke(\"Tesla in india,5\")"
   ]
  },
  {
   "cell_type": "code",
   "execution_count": 1,
   "id": "1d2497b7",
   "metadata": {},
   "outputs": [],
   "source": [
    "from langgraph.graph import StateGraph, END, START\n",
    "from typing import TypedDict"
   ]
  },
  {
   "cell_type": "code",
   "execution_count": 19,
   "id": "dcfcbc28",
   "metadata": {},
   "outputs": [],
   "source": [
    "class Simple(TypedDict):\n",
    "\n",
    "    question: str\n",
    "    answer: str"
   ]
  },
  {
   "cell_type": "code",
   "execution_count": 20,
   "id": "6a5ddc25",
   "metadata": {},
   "outputs": [],
   "source": [
    "load_dotenv()\n",
    "llm = ChatGoogleGenerativeAI(model=\"gemini-2.0-flash\")"
   ]
  },
  {
   "cell_type": "code",
   "execution_count": 25,
   "id": "f02c0382",
   "metadata": {},
   "outputs": [],
   "source": [
    "def llm_qa(state:Simple)->Simple:\n",
    "    output = llm.invoke(state[\"question\"])\n",
    "    state[\"answer\"] = output.content\n",
    "    return state "
   ]
  },
  {
   "cell_type": "code",
   "execution_count": 35,
   "id": "d76fb17d",
   "metadata": {},
   "outputs": [],
   "source": [
    "def uppper_case(state:Simple)->Simple:\n",
    "\n",
    "    u_case = state[\"answer\"].upper()\n",
    "    state[\"answer\"] = u_case\n",
    "    return state"
   ]
  },
  {
   "cell_type": "code",
   "execution_count": 36,
   "id": "135712e6",
   "metadata": {},
   "outputs": [],
   "source": [
    "graph = StateGraph(Simple)\n",
    "\n",
    "graph.add_node(\"llm_qa\",llm_qa)\n",
    "graph.add_node(\"u_case\",uppper_case)\n",
    "\n",
    "graph.add_edge(START,\"llm_qa\")\n",
    "graph.add_edge(\"llm_qa\",\"u_case\")\n",
    "graph.add_edge(\"u_case\",END)\n",
    "\n",
    "workflow = graph.compile()"
   ]
  },
  {
   "cell_type": "code",
   "execution_count": 37,
   "id": "b4a1335d",
   "metadata": {},
   "outputs": [],
   "source": [
    "initial_state = {\"question\":\"what is the Capital of india?\"}\n",
    "final_state = workflow.invoke(initial_state)"
   ]
  },
  {
   "cell_type": "code",
   "execution_count": 38,
   "id": "abcb5938",
   "metadata": {},
   "outputs": [
    {
     "data": {
      "text/plain": [
       "{'question': 'what is the Capital of india?',\n",
       " 'answer': 'THE CAPITAL OF INDIA IS **NEW DELHI**.'}"
      ]
     },
     "execution_count": 38,
     "metadata": {},
     "output_type": "execute_result"
    }
   ],
   "source": [
    "final_state"
   ]
  },
  {
   "cell_type": "code",
   "execution_count": 39,
   "id": "48673eb8",
   "metadata": {},
   "outputs": [
    {
     "data": {
      "image/png": "[encoded data removed]",
      "text/plain": [
       "<IPython.core.display.Image object>"
      ]
     },
     "execution_count": 39,
     "metadata": {},
     "output_type": "execute_result"
    }
   ],
   "source": [
    "from IPython.display import Image\n",
    "Image(workflow.get_graph().draw_mermaid_png())"
   ]
  },
  {
   "cell_type": "code",
   "execution_count": 40,
   "id": "36ea52bc",
   "metadata": {},
   "outputs": [
    {
     "name": "stdout",
     "output_type": "stream",
     "text": [
      "this is from llm_qa\n",
      "______________________\n",
      "this is from {'question': 'what is the Capital of india?', 'answer': 'The capital of India is **New Delhi**.'}\n",
      "_____________________\n",
      "this is from u_case\n",
      "______________________\n",
      "this is from {'question': 'what is the Capital of india?', 'answer': 'THE CAPITAL OF INDIA IS **NEW DELHI**.'}\n",
      "_____________________\n"
     ]
    }
   ],
   "source": [
    "for output in workflow.stream(initial_state):\n",
    "    for k,v in output.items():\n",
    "        print(f\"this is from {k}\")\n",
    "        print(\"______________________\")\n",
    "        print(f\"this is from {v}\")\n",
    "        print(f\"_____________________\")\n",
    "\n"
   ]
  },
  {
   "cell_type": "code",
   "execution_count": null,
   "id": "e7a0f8c3",
   "metadata": {},
   "outputs": [],
   "source": []
  }
 ],
 "metadata": {
  "kernelspec": {
   "display_name": ".venv",
   "language": "python",
   "name": "python3"
  },
  "language_info": {
   "codemirror_mode": {
    "name": "ipython",
    "version": 3
   },
   "file_extension": ".py",
   "mimetype": "text/x-python",
   "name": "python",
   "nbconvert_exporter": "python",
   "pygments_lexer": "ipython3",
   "version": "3.12.5"
  }
 },
 "nbformat": 4,
 "nbformat_minor": 5
}
