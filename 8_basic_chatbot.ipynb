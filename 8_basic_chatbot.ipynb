{
 "cells": [
  {
   "cell_type": "code",
   "execution_count": 18,
   "id": "f9d0ad34",
   "metadata": {},
   "outputs": [],
   "source": [
    "from langchain_google_genai import ChatGoogleGenerativeAI\n",
    "from dotenv import load_dotenv\n",
    "from langgraph.graph import StateGraph, END, START, add_messages\n",
    "from langchain_core.messages import HumanMessage, BaseMessage\n",
    "from typing import TypedDict,Annotated"
   ]
  },
  {
   "cell_type": "code",
   "execution_count": 36,
   "id": "cdeb1192",
   "metadata": {},
   "outputs": [],
   "source": [
    "load_dotenv()\n",
    "llm = ChatGoogleGenerativeAI(model=\"gemini-2.0-flash\")"
   ]
  },
  {
   "cell_type": "code",
   "execution_count": 37,
   "id": "f8a00b08",
   "metadata": {},
   "outputs": [],
   "source": [
    "class ChatbotState(TypedDict):\n",
    "    message: Annotated[list[BaseMessage], add_messages]"
   ]
  },
  {
   "cell_type": "code",
   "execution_count": 38,
   "id": "58bd7bf0",
   "metadata": {},
   "outputs": [],
   "source": [
    "def func(state: ChatbotState):\n",
    "\n",
    "    response = llm.invoke(state[\"message\"])\n",
    "    return {\"message\":[response]}"
   ]
  },
  {
   "cell_type": "code",
   "execution_count": 39,
   "id": "accbb2ab",
   "metadata": {},
   "outputs": [
    {
     "data": {
      "image/png": "[encoded data removed]",
      "text/plain": [
       "<langgraph.graph.state.CompiledStateGraph object at 0x0000024D4573C440>"
      ]
     },
     "execution_count": 39,
     "metadata": {},
     "output_type": "execute_result"
    }
   ],
   "source": [
    "graph = StateGraph(ChatbotState)\n",
    "\n",
    "graph.add_node(\"func\",func)\n",
    "\n",
    "graph.add_edge(START, \"func\")\n",
    "graph.add_edge(\"func\",END)\n",
    "\n",
    "workflow = graph.compile()\n",
    "workflow"
   ]
  },
  {
   "cell_type": "code",
   "execution_count": 46,
   "id": "f9e1be9f",
   "metadata": {},
   "outputs": [
    {
     "data": {
      "text/plain": [
       "'The current president of the United States is **Joe Biden**.'"
      ]
     },
     "execution_count": 46,
     "metadata": {},
     "output_type": "execute_result"
    }
   ],
   "source": [
    "m = {\"message\": [HumanMessage(content=\"Who is the president of usa?\")]}\n",
    "\n",
    "workflow.invoke(m)[\"message\"][-1].content"
   ]
  },
  {
   "cell_type": "code",
   "execution_count": 28,
   "id": "12661315",
   "metadata": {},
   "outputs": [
    {
     "name": "stdout",
     "output_type": "stream",
     "text": [
      "{'message': [HumanMessage(content='hii', additional_kwargs={}, response_metadata={}, id='3a1a00d4-e37c-4618-9218-4668717aba9a')]}\n",
      "{'message': [HumanMessage(content='how are you', additional_kwargs={}, response_metadata={}, id='ba5b3a48-5048-485c-87db-341398d8b591')]}\n",
      "Exiting...\n"
     ]
    }
   ],
   "source": [
    "while True:\n",
    "    question = input()\n",
    "    \n",
    "    if question.strip().lower() in [\"quit\",\"exit\"]:\n",
    "        print(\"Exiting...\")\n",
    "        break\n",
    "    else:\n",
    "        res = workflow.invoke({\"message\" :question})\n",
    "        print(res)"
   ]
  },
  {
   "cell_type": "code",
   "execution_count": null,
   "id": "6b2fa48d",
   "metadata": {},
   "outputs": [],
   "source": []
  }
 ],
 "metadata": {
  "kernelspec": {
   "display_name": ".venv",
   "language": "python",
   "name": "python3"
  },
  "language_info": {
   "codemirror_mode": {
    "name": "ipython",
    "version": 3
   },
   "file_extension": ".py",
   "mimetype": "text/x-python",
   "name": "python",
   "nbconvert_exporter": "python",
   "pygments_lexer": "ipython3",
   "version": "3.12.5"
  }
 },
 "nbformat": 4,
 "nbformat_minor": 5
}
