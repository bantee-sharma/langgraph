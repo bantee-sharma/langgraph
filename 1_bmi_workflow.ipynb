{
 "cells": [
  {
   "cell_type": "code",
   "execution_count": null,
   "id": "a357dd34",
   "metadata": {},
   "outputs": [],
   "source": [
    "# import libs\n",
    "from langgraph.graph import StateGraph, START, END\n",
    "from typing import TypedDict"
   ]
  },
  {
   "cell_type": "code",
   "execution_count": null,
   "id": "e2a3fe96",
   "metadata": {},
   "outputs": [],
   "source": [
    "# define state\n",
    "class BMIState(TypedDict):\n",
    "    height_m: float\n",
    "    weight_kg: float\n",
    "    bmi: float\n",
    "    cat: str"
   ]
  },
  {
   "cell_type": "code",
   "execution_count": null,
   "id": "d1495b15",
   "metadata": {},
   "outputs": [],
   "source": [
    "# calculate BMI\n",
    "def calculate_bmi(state:BMIState)->BMIState:\n",
    "    height = state[\"height_m\"]\n",
    "    weight = state[\"weight_kg\"]\n",
    "\n",
    "    bmi = weight/(height**2)\n",
    "    state[\"bmi\"] = round(bmi,2)\n",
    "    return state"
   ]
  },
  {
   "cell_type": "code",
   "execution_count": null,
   "id": "38be1508",
   "metadata": {},
   "outputs": [],
   "source": [
    "# BMI category\n",
    "def cat_bmi(state:BMIState)->BMIState:\n",
    "\n",
    "    bmi = state[\"bmi\"]\n",
    "\n",
    "    if bmi < 18.5 :\n",
    "        state[\"cat\"] = \"Underweight\"\n",
    "    elif 18.5 <= bmi < 25:\n",
    "        state[\"cat\"] = \"Normal\"\n",
    "    elif 25 <= bmi < 30:\n",
    "        state[\"bmi\"] = \"Overweight\"\n",
    "    else:\n",
    "        state[\"bmi\"] = \"Obese\"\n",
    "    return state"
   ]
  },
  {
   "cell_type": "code",
   "execution_count": null,
   "id": "361c5a91",
   "metadata": {},
   "outputs": [],
   "source": [
    "# define graph\n",
    "graph = StateGraph(BMIState)\n",
    "\n",
    "# add nodes to your graph\n",
    "graph.add_node(\"cal_bmi\",calculate_bmi)\n",
    "graph.add_node(\"cat_bmi\",cat_bmi)\n",
    "\n",
    "# add edges to your graph\n",
    "graph.add_edge(START,\"cal_bmi\")\n",
    "graph.add_edge(\"cal_bmi\",\"cat_bmi\")\n",
    "graph.add_edge(\"cat_bmi\",END)\n",
    "\n",
    "# compile the graph\n",
    "workflow = graph.compile()"
   ]
  },
  {
   "cell_type": "code",
   "execution_count": null,
   "id": "ffb4ea08",
   "metadata": {},
   "outputs": [
    {
     "name": "stdout",
     "output_type": "stream",
     "text": [
      "{'height_m': 1.75, 'weight_kg': 65, 'bmi': 21.22, 'cat': 'Normal'}\n",
      "BMI: 21.22\n",
      "Category: Normal\n"
     ]
    }
   ],
   "source": [
    "# execute the graph\n",
    "initial_state = {\"weight_kg\":65,\"height_m\":1.75}\n",
    "final_state = workflow.invoke(initial_state)\n",
    "print(final_state)\n",
    "print(f\"BMI: {final_state[\"bmi\"]}\")\n",
    "print(f\"Category: {final_state[\"cat\"]}\")"
   ]
  },
  {
   "cell_type": "code",
   "execution_count": 28,
   "id": "f0fb78b7",
   "metadata": {},
   "outputs": [
    {
     "data": {
      "image/png": "[encoded data removed]",
      "text/plain": [
       "<IPython.core.display.Image object>"
      ]
     },
     "execution_count": 28,
     "metadata": {},
     "output_type": "execute_result"
    }
   ],
   "source": [
    "from IPython.display import Image\n",
    "Image(workflow.get_graph().draw_mermaid_png())"
   ]
  },
  {
   "cell_type": "code",
   "execution_count": null,
   "id": "d92c77af",
   "metadata": {},
   "outputs": [],
   "source": []
  }
 ],
 "metadata": {
  "kernelspec": {
   "display_name": ".venv",
   "language": "python",
   "name": "python3"
  },
  "language_info": {
   "codemirror_mode": {
    "name": "ipython",
    "version": 3
   },
   "file_extension": ".py",
   "mimetype": "text/x-python",
   "name": "python",
   "nbconvert_exporter": "python",
   "pygments_lexer": "ipython3",
   "version": "3.12.5"
  }
 },
 "nbformat": 4,
 "nbformat_minor": 5
}
