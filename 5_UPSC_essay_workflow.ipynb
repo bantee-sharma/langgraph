{
 "cells": [
  {
   "cell_type": "code",
   "execution_count": 24,
   "id": "a2128839",
   "metadata": {},
   "outputs": [],
   "source": [
    "from langgraph.graph import StateGraph, END, START\n",
    "from langchain_google_genai import ChatGoogleGenerativeAI\n",
    "from dotenv import load_dotenv\n",
    "from typing import TypedDict, Annotated\n",
    "from pydantic import BaseModel, Field\n",
    "import operator"
   ]
  },
  {
   "cell_type": "code",
   "execution_count": 16,
   "id": "baf5548c",
   "metadata": {},
   "outputs": [],
   "source": [
    "load_dotenv()\n",
    "llm = ChatGoogleGenerativeAI(model=\"gemini-2.0-flash\")"
   ]
  },
  {
   "cell_type": "code",
   "execution_count": 17,
   "id": "091b7579",
   "metadata": {},
   "outputs": [],
   "source": [
    "class EvaluationSchema(BaseModel):\n",
    "\n",
    "    feedback: str = Field(description=\"Detailed feedback for the essay\")\n",
    "    score:int = Field(description=\"Give a feedback score 1 to 10\",ge=0,lt=11)"
   ]
  },
  {
   "cell_type": "code",
   "execution_count": 18,
   "id": "cf279bab",
   "metadata": {},
   "outputs": [],
   "source": [
    "structured_model = llm.with_structured_output(EvaluationSchema)"
   ]
  },
  {
   "cell_type": "code",
   "execution_count": 19,
   "id": "3d6624df",
   "metadata": {},
   "outputs": [],
   "source": [
    "essay = \"\"\"India in the Age of AI\n",
    "As the world enters a transformative era defined by artificial intelligence (AI), India stands at a critical juncture — one where it can either emerge as a global leader in AI innovation or risk falling behind in the technology race. The age of AI brings with it immense promise as well as unprecedented challenges, and how India navigates this landscape will shape its socio-economic and geopolitical future.\n",
    "\n",
    "India's strengths in the AI domain are rooted in its vast pool of skilled engineers, a thriving IT industry, and a growing startup ecosystem. With over 5 million STEM graduates annually and a burgeoning base of AI researchers, India possesses the intellectual capital required to build cutting-edge AI systems. Institutions like IITs, IIITs, and IISc have begun fostering AI research, while private players such as TCS, Infosys, and Wipro are integrating AI into their global services. In 2020, the government launched the National AI Strategy (AI for All) with a focus on inclusive growth, aiming to leverage AI in healthcare, agriculture, education, and smart mobility.\n",
    "\n",
    "One of the most promising applications of AI in India lies in agriculture, where predictive analytics can guide farmers on optimal sowing times, weather forecasts, and pest control. In healthcare, AI-powered diagnostics can help address India’s doctor-patient ratio crisis, particularly in rural areas. Educational platforms are increasingly using AI to personalize learning paths, while smart governance tools are helping improve public service delivery and fraud detection.\n",
    "\n",
    "However, the path to AI-led growth is riddled with challenges. Chief among them is the digital divide. While metropolitan cities may embrace AI-driven solutions, rural India continues to struggle with basic internet access and digital literacy. The risk of job displacement due to automation also looms large, especially for low-skilled workers. Without effective skilling and re-skilling programs, AI could exacerbate existing socio-economic inequalities.\n",
    "\n",
    "Another pressing concern is data privacy and ethics. As AI systems rely heavily on vast datasets, ensuring that personal data is used transparently and responsibly becomes vital. India is still shaping its data protection laws, and in the absence of a strong regulatory framework, AI systems may risk misuse or bias.\n",
    "\n",
    "To harness AI responsibly, India must adopt a multi-stakeholder approach involving the government, academia, industry, and civil society. Policies should promote open datasets, encourage responsible innovation, and ensure ethical AI practices. There is also a need for international collaboration, particularly with countries leading in AI research, to gain strategic advantage and ensure interoperability in global systems.\n",
    "\n",
    "India’s demographic dividend, when paired with responsible AI adoption, can unlock massive economic growth, improve governance, and uplift marginalized communities. But this vision will only materialize if AI is seen not merely as a tool for automation, but as an enabler of human-centered development.\n",
    "\n",
    "In conclusion, India in the age of AI is a story in the making — one of opportunity, responsibility, and transformation. The decisions we make today will not just determine India’s AI trajectory, but also its future as an inclusive, equitable, and innovation-driven society.\"\"\"\n"
   ]
  },
  {
   "cell_type": "code",
   "execution_count": 20,
   "id": "8e36c0c1",
   "metadata": {},
   "outputs": [
    {
     "data": {
      "text/plain": [
       "\"The essay provides a good overview of India's position in the age of AI, covering both opportunities and challenges. The language is clear and well-structured, making it easy to follow the main points. However, there's room for improvement in terms of depth and specific examples. The essay could benefit from more concrete data points and case studies to support its claims. Additionally, while the writing is generally strong, varying the sentence structure and using more vivid language could enhance its impact.\""
      ]
     },
     "execution_count": 20,
     "metadata": {},
     "output_type": "execute_result"
    }
   ],
   "source": [
    "prompt = f'Evaluate the language quality of the following essay and provide a feedback and assign a score out of 10 \\n {essay}'\n",
    "structured_model.invoke(prompt).feedback"
   ]
  },
  {
   "cell_type": "code",
   "execution_count": 21,
   "id": "cac03335",
   "metadata": {},
   "outputs": [
    {
     "data": {
      "text/plain": [
       "8"
      ]
     },
     "execution_count": 21,
     "metadata": {},
     "output_type": "execute_result"
    }
   ],
   "source": [
    "structured_model.invoke(prompt).score"
   ]
  },
  {
   "cell_type": "code",
   "execution_count": 45,
   "id": "24f77536",
   "metadata": {},
   "outputs": [],
   "source": [
    "class UPSCState(TypedDict):\n",
    "\n",
    "    essay: str\n",
    "    analysis_feedback: str\n",
    "    language: str\n",
    "    clarity_feedback: str\n",
    "    overall_feedback: str\n",
    "    individual_scores: Annotated[list[int],operator.add]\n",
    "    avg_score: float"
   ]
  },
  {
   "cell_type": "code",
   "execution_count": 46,
   "id": "121506af",
   "metadata": {},
   "outputs": [],
   "source": [
    "def evaluate_lang(state:UPSCState):\n",
    "    prompt = f\"Evalute the essay: {state[\"essay\"]} on the basis of language and give score 1 to 10\"\n",
    "    output = structured_model.invoke(prompt)\n",
    "\n",
    "    return {\"language\":output.feedback,\"individual_scores\":[output.score]}"
   ]
  },
  {
   "cell_type": "code",
   "execution_count": 47,
   "id": "0e32e6c8",
   "metadata": {},
   "outputs": [],
   "source": [
    "def evaluate_analysis(state:UPSCState):\n",
    "    prompt = f\"Evalute the essay: {state[\"essay\"]} on the basis of depth of analysis and give score 1 to 10\"\n",
    "    output = structured_model.invoke(prompt)\n",
    "\n",
    "    return {\"analysis_feedback\":output.feedback,\"individual_scores\":[output.score]}"
   ]
  },
  {
   "cell_type": "code",
   "execution_count": 48,
   "id": "08d71682",
   "metadata": {},
   "outputs": [],
   "source": [
    "def evaluate_clarity(state:UPSCState):\n",
    "    prompt = f\"Evalute the essay: {state[\"essay\"]} on the basis of clarity of depth and give score 1 to 10\"\n",
    "    output = structured_model.invoke(prompt)\n",
    "\n",
    "    return {\"clarity_feedback\":output.feedback,\"individual_scores\":[output.score]}"
   ]
  },
  {
   "cell_type": "code",
   "execution_count": 49,
   "id": "85e69bf6",
   "metadata": {},
   "outputs": [],
   "source": [
    "def final_evaluate(state: UPSCState):\n",
    "\n",
    "    prompt = f'Based on the following feedbacks create a summarized feedback \\n language feedback - {state[\"language\"]} \\n depth of analysis feedback - {state[\"analysis_feedback\"]} \\n clarity of thought feedback - {state[\"clarity_feedback\"]}'\n",
    "    overall_feedback = llm.invoke(prompt).content\n",
    "\n",
    "    avg_score = sum(state['individual_scores'])/len(state['individual_scores'])\n",
    "\n",
    "    return {'overall_feedback': overall_feedback, 'avg_score': avg_score}"
   ]
  },
  {
   "cell_type": "code",
   "execution_count": 50,
   "id": "c031aefa",
   "metadata": {},
   "outputs": [],
   "source": [
    "graph = StateGraph(UPSCState)\n",
    "\n",
    "graph.add_node(\"evaluate_lang\",evaluate_lang)\n",
    "graph.add_node(\"evaluate_analysis\",evaluate_analysis)\n",
    "graph.add_node(\"evaluate_clarity\",evaluate_clarity)\n",
    "graph.add_node(\"final_evaluate\",final_evaluate)\n",
    "\n",
    "graph.add_edge(START,\"evaluate_lang\")\n",
    "graph.add_edge(START,\"evaluate_analysis\")\n",
    "graph.add_edge(START,\"evaluate_clarity\")\n",
    "\n",
    "\n",
    "graph.add_edge(\"evaluate_lang\",\"final_evaluate\")\n",
    "graph.add_edge(\"evaluate_analysis\",\"final_evaluate\")\n",
    "graph.add_edge(\"evaluate_clarity\",\"final_evaluate\")\n",
    "graph.add_edge(\"final_evaluate\",END)\n",
    "\n",
    "workflow=graph.compile()\n",
    "\n"
   ]
  },
  {
   "cell_type": "code",
   "execution_count": 51,
   "id": "111a0ce3",
   "metadata": {},
   "outputs": [],
   "source": [
    "essay2 = \"\"\"India and AI Time\n",
    "\n",
    "Now world change very fast because new tech call Artificial Intel… something (AI). India also want become big in this AI thing. If work hard, India can go top. But if no careful, India go back.\n",
    "\n",
    "India have many good. We have smart student, many engine-ear, and good IT peoples. Big company like TCS, Infosys, Wipro already use AI. Government also do program “AI for All”. It want AI in farm, doctor place, school and transport.\n",
    "\n",
    "In farm, AI help farmer know when to put seed, when rain come, how stop bug. In health, AI help doctor see sick early. In school, AI help student learn good. Government office use AI to find bad people and work fast.\n",
    "\n",
    "But problem come also. First is many villager no have phone or internet. So AI not help them. Second, many people lose job because AI and machine do work. Poor people get more bad.\n",
    "\n",
    "One more big problem is privacy. AI need big big data. Who take care? India still make data rule. If no strong rule, AI do bad.\n",
    "\n",
    "India must all people together – govern, school, company and normal people. We teach AI and make sure AI not bad. Also talk to other country and learn from them.\n",
    "\n",
    "If India use AI good way, we become strong, help poor and make better life. But if only rich use AI, and poor no get, then big bad thing happen.\n",
    "\n",
    "So, in short, AI time in India have many hope and many danger. We must go right road. AI must help all people, not only some. Then India grow big and world say \"good job India\".\"\"\"\n"
   ]
  },
  {
   "cell_type": "code",
   "execution_count": 52,
   "id": "ea1c366b",
   "metadata": {},
   "outputs": [
    {
     "data": {
      "text/plain": [
       "{'essay': 'India and AI Time\\n\\nNow world change very fast because new tech call Artificial Intel… something (AI). India also want become big in this AI thing. If work hard, India can go top. But if no careful, India go back.\\n\\nIndia have many good. We have smart student, many engine-ear, and good IT peoples. Big company like TCS, Infosys, Wipro already use AI. Government also do program “AI for All”. It want AI in farm, doctor place, school and transport.\\n\\nIn farm, AI help farmer know when to put seed, when rain come, how stop bug. In health, AI help doctor see sick early. In school, AI help student learn good. Government office use AI to find bad people and work fast.\\n\\nBut problem come also. First is many villager no have phone or internet. So AI not help them. Second, many people lose job because AI and machine do work. Poor people get more bad.\\n\\nOne more big problem is privacy. AI need big big data. Who take care? India still make data rule. If no strong rule, AI do bad.\\n\\nIndia must all people together – govern, school, company and normal people. We teach AI and make sure AI not bad. Also talk to other country and learn from them.\\n\\nIf India use AI good way, we become strong, help poor and make better life. But if only rich use AI, and poor no get, then big bad thing happen.\\n\\nSo, in short, AI time in India have many hope and many danger. We must go right road. AI must help all people, not only some. Then India grow big and world say \"good job India\".',\n",
       " 'analysis_feedback': \"The essay discusses India's potential in AI, highlighting both opportunities and challenges. It covers key sectors like agriculture, healthcare, and education, and also addresses concerns like digital divide, job displacement, and privacy. The essay could benefit from more specific examples and a deeper analysis of the potential solutions to the challenges mentioned. The writing style is simple and easy to understand, but could be more sophisticated.\",\n",
       " 'language': 'The essay has a clear structure, presenting both the potential benefits and challenges of AI in India. The language is simple and easy to understand, but there are some grammatical errors and awkward phrasings that need improvement. The essay could also benefit from more specific examples and evidence to support its claims.',\n",
       " 'clarity_feedback': \"The essay discusses India's potential in AI, highlighting both opportunities and challenges. It covers the benefits of AI in various sectors like agriculture, healthcare, and education, while also addressing concerns like the digital divide, job displacement, and privacy. The essay emphasizes the need for inclusivity and strong data regulations to ensure AI benefits all citizens and avoids negative consequences. Overall, the essay provides a balanced view of AI's impact on India, but could benefit from more specific examples and a deeper analysis of the challenges and potential solutions.\",\n",
       " 'overall_feedback': \"The essay provides a balanced overview of AI's potential impact on India, covering both opportunities and challenges in sectors like agriculture, healthcare, and education. While the structure is clear and the language is generally accessible, the essay would benefit from:\\n\\n*   **More specific examples and evidence** to support claims.\\n*   **Deeper analysis** of the challenges (digital divide, job displacement, privacy) and potential solutions.\\n*   **Improved language and grammar** to address errors and awkward phrasing.\\n*   **More sophisticated writing style.**\",\n",
       " 'individual_scores': [7, 7, 6],\n",
       " 'avg_score': 6.666666666666667}"
      ]
     },
     "execution_count": 52,
     "metadata": {},
     "output_type": "execute_result"
    }
   ],
   "source": [
    "intial_state = {\n",
    "    'essay': essay2\n",
    "}\n",
    "\n",
    "workflow.invoke(intial_state)"
   ]
  },
  {
   "cell_type": "code",
   "execution_count": 53,
   "id": "c1e3103c",
   "metadata": {},
   "outputs": [
    {
     "data": {
      "image/png": "[encoded data removed]",
      "text/plain": [
       "<IPython.core.display.Image object>"
      ]
     },
     "execution_count": 53,
     "metadata": {},
     "output_type": "execute_result"
    }
   ],
   "source": [
    "from IPython.display import Image\n",
    "Image(workflow.get_graph().draw_mermaid_png())"
   ]
  },
  {
   "cell_type": "code",
   "execution_count": null,
   "id": "b790e36a",
   "metadata": {},
   "outputs": [],
   "source": []
  }
 ],
 "metadata": {
  "kernelspec": {
   "display_name": ".venv",
   "language": "python",
   "name": "python3"
  },
  "language_info": {
   "codemirror_mode": {
    "name": "ipython",
    "version": 3
   },
   "file_extension": ".py",
   "mimetype": "text/x-python",
   "name": "python",
   "nbconvert_exporter": "python",
   "pygments_lexer": "ipython3",
   "version": "3.12.5"
  }
 },
 "nbformat": 4,
 "nbformat_minor": 5
}
