{
 "cells": [
  {
   "cell_type": "code",
   "execution_count": 31,
   "id": "c891657b",
   "metadata": {},
   "outputs": [],
   "source": [
    "from langchain_google_genai import ChatGoogleGenerativeAI\n",
    "from dotenv import load_dotenv\n",
    "from langgraph.graph import StateGraph, END, START, add_messages\n",
    "from typing import TypedDict, Annotated\n",
    "from langchain_core.messages import HumanMessage, BaseMessage"
   ]
  },
  {
   "cell_type": "code",
   "execution_count": 32,
   "id": "4766fb89",
   "metadata": {},
   "outputs": [],
   "source": [
    "load_dotenv()\n",
    "llm = ChatGoogleGenerativeAI(model=\"gemini-2.5-pro\")"
   ]
  },
  {
   "cell_type": "code",
   "execution_count": 33,
   "id": "e8f43337",
   "metadata": {},
   "outputs": [],
   "source": [
    "class ChatbotState(TypedDict):\n",
    "    messages: Annotated[list[BaseMessage], add_messages]"
   ]
  },
  {
   "cell_type": "code",
   "execution_count": 34,
   "id": "8675f2d4",
   "metadata": {},
   "outputs": [],
   "source": [
    "def chatnode(state: ChatbotState):\n",
    "\n",
    "    messages = state[\"messages\"]\n",
    "    response = llm.invoke(messages)\n",
    "    return {\"messages\": [response]}"
   ]
  },
  {
   "cell_type": "code",
   "execution_count": 35,
   "id": "fa55bead",
   "metadata": {},
   "outputs": [],
   "source": [
    "graph = StateGraph(ChatbotState)\n",
    "\n",
    "graph.add_node(\"chatnode\",chatnode)\n",
    "\n",
    "graph.add_edge(START, \"chatnode\")\n",
    "graph.add_edge(\"chatnode\",END)\n",
    "\n",
    "workflow = graph.compile()"
   ]
  },
  {
   "cell_type": "code",
   "execution_count": null,
   "id": "36c5d729",
   "metadata": {},
   "outputs": [
    {
     "name": "stdout",
     "output_type": "stream",
     "text": [
      "hii\n",
      "{'messages': [HumanMessage(content='hii', additional_kwargs={}, response_metadata={}, id='dcb5be34-bb56-4e35-b4a3-0d652a3ae666'), AIMessage(content='Hello! How can I help you today?', additional_kwargs={}, response_metadata={'prompt_feedback': {'block_reason': 0, 'safety_ratings': []}, 'finish_reason': 'STOP', 'model_name': 'gemini-2.5-pro', 'safety_ratings': []}, id='run--152bf1dc-e0c3-4252-84d2-75b0989837a9-0')]}\n",
      "how are you\n"
     ]
    }
   ],
   "source": [
    "while True:\n",
    "\n",
    "    question = input(\"Ask me:\")\n",
    "    print(question)\n",
    "    if question.lower().strip() in [\"quit\",\"exit\"]:\n",
    "        print(\"Ending, the chat.....\")\n",
    "        break\n",
    "    else:\n",
    "\n",
    "        reaponse = workflow.invoke({\"messages\": [HumanMessage(content=question)]})\n",
    "        print(reaponse)"
   ]
  },
  {
   "cell_type": "code",
   "execution_count": 11,
   "id": "217e3a41",
   "metadata": {},
   "outputs": [
    {
     "data": {
      "image/png": "[encoded data removed]",
      "text/plain": [
       "<langgraph.graph.state.CompiledStateGraph object at 0x00000216D1B11400>"
      ]
     },
     "execution_count": 11,
     "metadata": {},
     "output_type": "execute_result"
    }
   ],
   "source": [
    "workflow"
   ]
  },
  {
   "cell_type": "code",
   "execution_count": null,
   "id": "05f76983",
   "metadata": {},
   "outputs": [],
   "source": []
  }
 ],
 "metadata": {
  "kernelspec": {
   "display_name": ".venv",
   "language": "python",
   "name": "python3"
  },
  "language_info": {
   "codemirror_mode": {
    "name": "ipython",
    "version": 3
   },
   "file_extension": ".py",
   "mimetype": "text/x-python",
   "name": "python",
   "nbconvert_exporter": "python",
   "pygments_lexer": "ipython3",
   "version": "3.12.5"
  }
 },
 "nbformat": 4,
 "nbformat_minor": 5
}
