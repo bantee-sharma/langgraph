{
 "cells": [
  {
   "cell_type": "code",
   "execution_count": 12,
   "id": "a6189aec",
   "metadata": {},
   "outputs": [],
   "source": [
    "from langchain_google_genai import ChatGoogleGenerativeAI\n",
    "from dotenv import load_dotenv\n",
    "from langgraph.graph import StateGraph, END, START\n",
    "from typing import TypedDict\n",
    "from langgraph.checkpoint.memory import InMemorySaver"
   ]
  },
  {
   "cell_type": "code",
   "execution_count": 3,
   "id": "76aa6a82",
   "metadata": {},
   "outputs": [],
   "source": [
    "load_dotenv()\n",
    "llm = ChatGoogleGenerativeAI(model=\"gemini-2.5-flash\")"
   ]
  },
  {
   "cell_type": "code",
   "execution_count": 4,
   "id": "d2d703c1",
   "metadata": {},
   "outputs": [],
   "source": [
    "class JokeState(TypedDict):\n",
    "    topic: str\n",
    "    joke: str\n",
    "    exp: str"
   ]
  },
  {
   "cell_type": "code",
   "execution_count": 5,
   "id": "ed1d7099",
   "metadata": {},
   "outputs": [],
   "source": [
    "def gen_func(state: JokeState):\n",
    "\n",
    "    prompt = f\"Generate a joke on the following topic: {state[\"topic\"]}\"\n",
    "    response = llm.invoke(prompt)\n",
    "    return {\"joke\":response.content}"
   ]
  },
  {
   "cell_type": "code",
   "execution_count": 6,
   "id": "69b152d2",
   "metadata": {},
   "outputs": [],
   "source": [
    "def exp_func(state: JokeState):\n",
    "\n",
    "    prompt = f\"Explain the following joke: {state[\"joke\"]}\"\n",
    "    response = llm.invoke(prompt)\n",
    "    return {\"exp\":response.content}"
   ]
  },
  {
   "cell_type": "code",
   "execution_count": 14,
   "id": "dc77a4a0",
   "metadata": {},
   "outputs": [],
   "source": [
    "graph = StateGraph(JokeState)\n",
    "\n",
    "graph.add_node(\"gen\",gen_func)\n",
    "graph.add_node(\"exp\",exp_func)\n",
    "\n",
    "graph.add_edge(START,\"gen\")\n",
    "graph.add_edge(\"gen\",\"exp\")\n",
    "graph.add_edge(\"exp\",END)\n",
    "checkpointer = InMemorySaver()\n",
    "workflow = graph.compile(checkpointer=checkpointer)"
   ]
  },
  {
   "cell_type": "code",
   "execution_count": null,
   "id": "623b2b99",
   "metadata": {},
   "outputs": [],
   "source": [
    "j = \"Indian media\"\n",
    "config1 = {\"configurable\":{\"thread_id\":\"1\"}}\n",
    "result = workflow.invoke({\"topic\":j},config=config1)"
   ]
  },
  {
   "cell_type": "code",
   "execution_count": 17,
   "id": "9d13512b",
   "metadata": {},
   "outputs": [
    {
     "data": {
      "text/plain": [
       "{'topic': 'AI',\n",
       " 'joke': 'Why did the AI break up with its human girlfriend?\\n\\nIt said she had too many \"unstructured data points\" in her emotional responses.',\n",
       " 'exp': 'This joke plays on the fundamental differences between how Artificial Intelligence (AI) processes information and how human emotions work.\\n\\nHere\\'s the breakdown:\\n\\n1.  **\"Unstructured Data Points\":**\\n    *   **In AI/Computer Science:** \"Unstructured data\" refers to information that doesn\\'t have a pre-defined data model or isn\\'t organized in a pre-defined manner. Think of things like text documents, emails, social media posts, images, audio files, or video. It\\'s messy, lacks consistent formatting, and is hard for a computer to parse without advanced techniques.\\n    *   **In contrast, \"structured data\"** is highly organized and formatted, like data in a spreadsheet or database, with clear rows, columns, and categories. AI excels at processing structured data.\\n\\n2.  **Applying it to Human Emotions:**\\n    *   Human emotions are inherently **unstructured**. They are complex, nuanced, often contradictory, not always logical, and can manifest in countless ways (facial expressions, tone of voice, body language, sudden changes in mood, \"silent treatment,\" \"I\\'m fine\" when clearly not).\\n    *   There\\'s no neat \"database\" or \"algorithm\" for perfectly categorizing or predicting human emotional responses. They don\\'t fit into tidy \"data points\" that an AI can easily process and understand with its logical, data-driven framework.\\n\\n3.  **The Humor:**\\n    *   **Personification/Anthropomorphism:** The joke gives the AI a human-like problem (a breakup) but has it explain the reason in a cold, logical, and technical way that\\'s characteristic of an AI.\\n    *   **Jargon Misapplication:** It\\'s funny because the AI uses highly technical, data-centric language (\"unstructured data points\") to describe something profoundly human and often illogical (emotions).\\n    *   **AI\\'s Limitations:** It highlights the current limitations of AI. While AI can process vast amounts of data and perform complex tasks, it struggles with the unpredictable, nuanced, and often irrational world of human relationships and emotions, which don\\'t fit into neat algorithms or data models.\\n    *   **Relatability (Ironic):** It\\'s also subtly funny because even for humans, understanding another person\\'s emotional responses can feel like dealing with \"unstructured data points\" – complex, messy, and hard to fully decipher! The AI is just articulating this common human challenge from its own unique, logical perspective.\\n\\nIn essence, the joke is funny because it juxtaposes the AI\\'s logical, data-driven mind with the chaotic, unpredictable nature of human emotions, using technical jargon to explain a very human problem.'}"
      ]
     },
     "execution_count": 17,
     "metadata": {},
     "output_type": "execute_result"
    }
   ],
   "source": [
    "result"
   ]
  },
  {
   "cell_type": "code",
   "execution_count": 18,
   "id": "08b04e98",
   "metadata": {},
   "outputs": [
    {
     "data": {
      "text/plain": [
       "StateSnapshot(values={'topic': 'AI', 'joke': 'Why did the AI break up with its human girlfriend?\\n\\nIt said she had too many \"unstructured data points\" in her emotional responses.', 'exp': 'This joke plays on the fundamental differences between how Artificial Intelligence (AI) processes information and how human emotions work.\\n\\nHere\\'s the breakdown:\\n\\n1.  **\"Unstructured Data Points\":**\\n    *   **In AI/Computer Science:** \"Unstructured data\" refers to information that doesn\\'t have a pre-defined data model or isn\\'t organized in a pre-defined manner. Think of things like text documents, emails, social media posts, images, audio files, or video. It\\'s messy, lacks consistent formatting, and is hard for a computer to parse without advanced techniques.\\n    *   **In contrast, \"structured data\"** is highly organized and formatted, like data in a spreadsheet or database, with clear rows, columns, and categories. AI excels at processing structured data.\\n\\n2.  **Applying it to Human Emotions:**\\n    *   Human emotions are inherently **unstructured**. They are complex, nuanced, often contradictory, not always logical, and can manifest in countless ways (facial expressions, tone of voice, body language, sudden changes in mood, \"silent treatment,\" \"I\\'m fine\" when clearly not).\\n    *   There\\'s no neat \"database\" or \"algorithm\" for perfectly categorizing or predicting human emotional responses. They don\\'t fit into tidy \"data points\" that an AI can easily process and understand with its logical, data-driven framework.\\n\\n3.  **The Humor:**\\n    *   **Personification/Anthropomorphism:** The joke gives the AI a human-like problem (a breakup) but has it explain the reason in a cold, logical, and technical way that\\'s characteristic of an AI.\\n    *   **Jargon Misapplication:** It\\'s funny because the AI uses highly technical, data-centric language (\"unstructured data points\") to describe something profoundly human and often illogical (emotions).\\n    *   **AI\\'s Limitations:** It highlights the current limitations of AI. While AI can process vast amounts of data and perform complex tasks, it struggles with the unpredictable, nuanced, and often irrational world of human relationships and emotions, which don\\'t fit into neat algorithms or data models.\\n    *   **Relatability (Ironic):** It\\'s also subtly funny because even for humans, understanding another person\\'s emotional responses can feel like dealing with \"unstructured data points\" – complex, messy, and hard to fully decipher! The AI is just articulating this common human challenge from its own unique, logical perspective.\\n\\nIn essence, the joke is funny because it juxtaposes the AI\\'s logical, data-driven mind with the chaotic, unpredictable nature of human emotions, using technical jargon to explain a very human problem.'}, next=(), config={'configurable': {'thread_id': '1', 'checkpoint_ns': '', 'checkpoint_id': '1f06fb6f-b994-6bad-8002-1096c32b4549'}}, metadata={'source': 'loop', 'step': 2, 'parents': {}, 'thread_id': '1'}, created_at='2025-08-02T15:40:14.434398+00:00', parent_config={'configurable': {'thread_id': '1', 'checkpoint_ns': '', 'checkpoint_id': '1f06fb6f-649f-671e-8001-d456965d2902'}}, tasks=(), interrupts=())"
      ]
     },
     "execution_count": 18,
     "metadata": {},
     "output_type": "execute_result"
    }
   ],
   "source": [
    "workflow.get_state(config=config1)"
   ]
  },
  {
   "cell_type": "code",
   "execution_count": 20,
   "id": "9e4d03fd",
   "metadata": {},
   "outputs": [
    {
     "data": {
      "text/plain": [
       "[StateSnapshot(values={'topic': 'AI', 'joke': 'Why did the AI break up with its human girlfriend?\\n\\nIt said she had too many \"unstructured data points\" in her emotional responses.', 'exp': 'This joke plays on the fundamental differences between how Artificial Intelligence (AI) processes information and how human emotions work.\\n\\nHere\\'s the breakdown:\\n\\n1.  **\"Unstructured Data Points\":**\\n    *   **In AI/Computer Science:** \"Unstructured data\" refers to information that doesn\\'t have a pre-defined data model or isn\\'t organized in a pre-defined manner. Think of things like text documents, emails, social media posts, images, audio files, or video. It\\'s messy, lacks consistent formatting, and is hard for a computer to parse without advanced techniques.\\n    *   **In contrast, \"structured data\"** is highly organized and formatted, like data in a spreadsheet or database, with clear rows, columns, and categories. AI excels at processing structured data.\\n\\n2.  **Applying it to Human Emotions:**\\n    *   Human emotions are inherently **unstructured**. They are complex, nuanced, often contradictory, not always logical, and can manifest in countless ways (facial expressions, tone of voice, body language, sudden changes in mood, \"silent treatment,\" \"I\\'m fine\" when clearly not).\\n    *   There\\'s no neat \"database\" or \"algorithm\" for perfectly categorizing or predicting human emotional responses. They don\\'t fit into tidy \"data points\" that an AI can easily process and understand with its logical, data-driven framework.\\n\\n3.  **The Humor:**\\n    *   **Personification/Anthropomorphism:** The joke gives the AI a human-like problem (a breakup) but has it explain the reason in a cold, logical, and technical way that\\'s characteristic of an AI.\\n    *   **Jargon Misapplication:** It\\'s funny because the AI uses highly technical, data-centric language (\"unstructured data points\") to describe something profoundly human and often illogical (emotions).\\n    *   **AI\\'s Limitations:** It highlights the current limitations of AI. While AI can process vast amounts of data and perform complex tasks, it struggles with the unpredictable, nuanced, and often irrational world of human relationships and emotions, which don\\'t fit into neat algorithms or data models.\\n    *   **Relatability (Ironic):** It\\'s also subtly funny because even for humans, understanding another person\\'s emotional responses can feel like dealing with \"unstructured data points\" – complex, messy, and hard to fully decipher! The AI is just articulating this common human challenge from its own unique, logical perspective.\\n\\nIn essence, the joke is funny because it juxtaposes the AI\\'s logical, data-driven mind with the chaotic, unpredictable nature of human emotions, using technical jargon to explain a very human problem.'}, next=(), config={'configurable': {'thread_id': '1', 'checkpoint_ns': '', 'checkpoint_id': '1f06fb6f-b994-6bad-8002-1096c32b4549'}}, metadata={'source': 'loop', 'step': 2, 'parents': {}, 'thread_id': '1'}, created_at='2025-08-02T15:40:14.434398+00:00', parent_config={'configurable': {'thread_id': '1', 'checkpoint_ns': '', 'checkpoint_id': '1f06fb6f-649f-671e-8001-d456965d2902'}}, tasks=(), interrupts=()),\n",
       " StateSnapshot(values={'topic': 'AI', 'joke': 'Why did the AI break up with its human girlfriend?\\n\\nIt said she had too many \"unstructured data points\" in her emotional responses.'}, next=('exp',), config={'configurable': {'thread_id': '1', 'checkpoint_ns': '', 'checkpoint_id': '1f06fb6f-649f-671e-8001-d456965d2902'}}, metadata={'source': 'loop', 'step': 1, 'parents': {}, 'thread_id': '1'}, created_at='2025-08-02T15:40:05.525891+00:00', parent_config={'configurable': {'thread_id': '1', 'checkpoint_ns': '', 'checkpoint_id': '1f06fb6e-e55a-65a7-8000-d37cb2f4228f'}}, tasks=(PregelTask(id='b9534dfb-cd12-5627-77b3-6a292a849b7a', name='exp', path=('__pregel_pull', 'exp'), error=None, interrupts=(), state=None, result={'exp': 'This joke plays on the fundamental differences between how Artificial Intelligence (AI) processes information and how human emotions work.\\n\\nHere\\'s the breakdown:\\n\\n1.  **\"Unstructured Data Points\":**\\n    *   **In AI/Computer Science:** \"Unstructured data\" refers to information that doesn\\'t have a pre-defined data model or isn\\'t organized in a pre-defined manner. Think of things like text documents, emails, social media posts, images, audio files, or video. It\\'s messy, lacks consistent formatting, and is hard for a computer to parse without advanced techniques.\\n    *   **In contrast, \"structured data\"** is highly organized and formatted, like data in a spreadsheet or database, with clear rows, columns, and categories. AI excels at processing structured data.\\n\\n2.  **Applying it to Human Emotions:**\\n    *   Human emotions are inherently **unstructured**. They are complex, nuanced, often contradictory, not always logical, and can manifest in countless ways (facial expressions, tone of voice, body language, sudden changes in mood, \"silent treatment,\" \"I\\'m fine\" when clearly not).\\n    *   There\\'s no neat \"database\" or \"algorithm\" for perfectly categorizing or predicting human emotional responses. They don\\'t fit into tidy \"data points\" that an AI can easily process and understand with its logical, data-driven framework.\\n\\n3.  **The Humor:**\\n    *   **Personification/Anthropomorphism:** The joke gives the AI a human-like problem (a breakup) but has it explain the reason in a cold, logical, and technical way that\\'s characteristic of an AI.\\n    *   **Jargon Misapplication:** It\\'s funny because the AI uses highly technical, data-centric language (\"unstructured data points\") to describe something profoundly human and often illogical (emotions).\\n    *   **AI\\'s Limitations:** It highlights the current limitations of AI. While AI can process vast amounts of data and perform complex tasks, it struggles with the unpredictable, nuanced, and often irrational world of human relationships and emotions, which don\\'t fit into neat algorithms or data models.\\n    *   **Relatability (Ironic):** It\\'s also subtly funny because even for humans, understanding another person\\'s emotional responses can feel like dealing with \"unstructured data points\" – complex, messy, and hard to fully decipher! The AI is just articulating this common human challenge from its own unique, logical perspective.\\n\\nIn essence, the joke is funny because it juxtaposes the AI\\'s logical, data-driven mind with the chaotic, unpredictable nature of human emotions, using technical jargon to explain a very human problem.'}),), interrupts=()),\n",
       " StateSnapshot(values={'topic': 'AI'}, next=('gen',), config={'configurable': {'thread_id': '1', 'checkpoint_ns': '', 'checkpoint_id': '1f06fb6e-e55a-65a7-8000-d37cb2f4228f'}}, metadata={'source': 'loop', 'step': 0, 'parents': {}, 'thread_id': '1'}, created_at='2025-08-02T15:39:52.180675+00:00', parent_config={'configurable': {'thread_id': '1', 'checkpoint_ns': '', 'checkpoint_id': '1f06fb6e-e53f-6d9a-bfff-36eccb0ec2f9'}}, tasks=(PregelTask(id='4ff1eef8-f77a-f3ed-b7c0-c14a10af46bf', name='gen', path=('__pregel_pull', 'gen'), error=None, interrupts=(), state=None, result={'joke': 'Why did the AI break up with its human girlfriend?\\n\\nIt said she had too many \"unstructured data points\" in her emotional responses.'}),), interrupts=()),\n",
       " StateSnapshot(values={}, next=('__start__',), config={'configurable': {'thread_id': '1', 'checkpoint_ns': '', 'checkpoint_id': '1f06fb6e-e53f-6d9a-bfff-36eccb0ec2f9'}}, metadata={'source': 'input', 'step': -1, 'parents': {}, 'thread_id': '1'}, created_at='2025-08-02T15:39:52.169820+00:00', parent_config=None, tasks=(PregelTask(id='44b9e0ec-6f55-dce3-3eae-88fe4aaeb92c', name='__start__', path=('__pregel_pull', '__start__'), error=None, interrupts=(), state=None, result={'topic': 'AI'}),), interrupts=())]"
      ]
     },
     "execution_count": 20,
     "metadata": {},
     "output_type": "execute_result"
    }
   ],
   "source": [
    "list(workflow.get_state_history(config1))"
   ]
  },
  {
   "cell_type": "code",
   "execution_count": 8,
   "id": "ad9f65f0",
   "metadata": {},
   "outputs": [
    {
     "data": {
      "image/png": "[encoded data removed]",
      "text/plain": [
       "<langgraph.graph.state.CompiledStateGraph object at 0x00000148A4224EF0>"
      ]
     },
     "execution_count": 8,
     "metadata": {},
     "output_type": "execute_result"
    }
   ],
   "source": [
    "workflow"
   ]
  },
  {
   "cell_type": "code",
   "execution_count": null,
   "id": "68ef148a",
   "metadata": {},
   "outputs": [],
   "source": []
  }
 ],
 "metadata": {
  "kernelspec": {
   "display_name": ".venv",
   "language": "python",
   "name": "python3"
  },
  "language_info": {
   "codemirror_mode": {
    "name": "ipython",
    "version": 3
   },
   "file_extension": ".py",
   "mimetype": "text/x-python",
   "name": "python",
   "nbconvert_exporter": "python",
   "pygments_lexer": "ipython3",
   "version": "3.12.5"
  }
 },
 "nbformat": 4,
 "nbformat_minor": 5
}
