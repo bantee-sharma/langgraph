{
 "cells": [
  {
   "cell_type": "code",
   "execution_count": 4,
   "id": "29478f3a",
   "metadata": {},
   "outputs": [],
   "source": [
    "from langgraph.graph import StateGraph,END,START\n",
    "from typing import TypedDict,Literal\n",
    "from pydantic import BaseModel,Field\n",
    "from langchain_google_genai import ChatGoogleGenerativeAI\n",
    "from dotenv import load_dotenv"
   ]
  },
  {
   "cell_type": "code",
   "execution_count": 5,
   "id": "f004dafd",
   "metadata": {},
   "outputs": [],
   "source": [
    "load_dotenv()\n",
    "llm = ChatGoogleGenerativeAI(model=\"gemini-2.0-flash\")"
   ]
  },
  {
   "cell_type": "code",
   "execution_count": 6,
   "id": "114e1d2e",
   "metadata": {},
   "outputs": [],
   "source": [
    "class SentimentSchema(BaseModel):\n",
    "    sentiment: Literal[\"positive\",\"negative\"] = Field(description=\"Sentiment of the review\")"
   ]
  },
  {
   "cell_type": "code",
   "execution_count": 27,
   "id": "c1036b73",
   "metadata": {},
   "outputs": [],
   "source": [
    "class DiagnosisSchema(BaseModel):\n",
    "    issue_type: Literal[\"UX\", \"Performance\", \"Bug\", \"Support\", \"Other\"] = Field(description='The category of issue mentioned in the review')\n",
    "    tone: Literal[\"angry\", \"frustrated\", \"disappointed\", \"calm\"] = Field(description='The emotional tone expressed by the user')\n",
    "    urgency: Literal[\"low\", \"medium\", \"high\"] = Field(description='How urgent or critical the issue appears to be')"
   ]
  },
  {
   "cell_type": "code",
   "execution_count": 28,
   "id": "2073dacd",
   "metadata": {},
   "outputs": [],
   "source": [
    "strurtured_llm = llm.with_structured_output(SentimentSchema)\n",
    "strurtured_llm2 = llm.with_structured_output(DiagnosisSchema)"
   ]
  },
  {
   "cell_type": "code",
   "execution_count": 9,
   "id": "34572f59",
   "metadata": {},
   "outputs": [
    {
     "data": {
      "text/plain": [
       "'positive'"
      ]
     },
     "execution_count": 9,
     "metadata": {},
     "output_type": "execute_result"
    }
   ],
   "source": [
    "strurtured_llm.invoke(\"Wow i love the product\").sentiment"
   ]
  },
  {
   "cell_type": "code",
   "execution_count": 25,
   "id": "e0bafd56",
   "metadata": {},
   "outputs": [],
   "source": [
    "class ReviewSchema(TypedDict):\n",
    "    review: str\n",
    "    sentiment: Literal[\"positive\",\"negative\"]\n",
    "    response: str\n",
    "    run_diagnosis: dict"
   ]
  },
  {
   "cell_type": "code",
   "execution_count": 31,
   "id": "559ac9ff",
   "metadata": {},
   "outputs": [],
   "source": [
    "def find_sentiment(state: ReviewSchema):\n",
    "\n",
    "    prompt = f\"Give the sentiment of the following review: \\n {state[\"review\"]}\"\n",
    "    output = strurtured_llm.invoke(prompt)\n",
    "    return {\"sentiment\": output.sentiment}\n",
    "\n",
    "def checkpoint(state:ReviewSchema)-> Literal[\"positive_reponse\",\"run_diagnosis\"]:\n",
    "    if state[\"sentiment\"] == \"positive\":\n",
    "        return \"positive_reponse\"\n",
    "    else:\n",
    "        return \"run_diagnosis\"\n",
    "    \n",
    "def positive_reponse(state:ReviewSchema):\n",
    "\n",
    "    prompt = f\"\"\"Write a warm thank-you message in response of this review.\n",
    "    {state[\"review\"]}\n",
    "and kindly ask to the user to leave a feedback on our website\"\"\"\n",
    "    output = llm.invoke(prompt).content\n",
    "    return {\"response\":output}\n",
    "\n",
    "\n",
    "def run_diagnosis(state: ReviewSchema):\n",
    "\n",
    "    prompt = f\"\"\"Diagnose this negative review:\\n\\n{state['review']}\\n\"\n",
    "    \"Return issue_type, tone, and urgency.\n",
    "\"\"\"\n",
    "    response = strurtured_llm2.invoke(prompt)\n",
    "\n",
    "    return {'diagnosis': response.model_dump()}\n",
    "\n",
    "def negative_response(state: ReviewSchema):\n",
    "\n",
    "    diagnosis = state['diagnosis']\n",
    "\n",
    "    prompt = f\"\"\"You are a support assistant.\n",
    "The user had a '{diagnosis['issue_type']}' issue, sounded '{diagnosis['tone']}', and marked urgency as '{diagnosis['urgency']}'.\n",
    "Write an empathetic, helpful resolution message.\n",
    "\"\"\"\n",
    "    response = llm.invoke(prompt).content\n",
    "\n",
    "    return {'response': response}\n"
   ]
  },
  {
   "cell_type": "code",
   "execution_count": 32,
   "id": "aa9a9093",
   "metadata": {},
   "outputs": [],
   "source": [
    "graph = StateGraph(ReviewSchema)\n",
    "\n",
    "graph.add_node(\"find_sentiment\",find_sentiment)\n",
    "graph.add_node(\"positive_reponse\",positive_reponse)\n",
    "graph.add_node(\"run_diagnosis\",run_diagnosis)\n",
    "graph.add_node(\"negative_response\",negative_response)\n",
    "\n",
    "graph.add_edge(START,\"find_sentiment\")\n",
    "graph.add_edge(\"find_sentiment\",END)\n",
    "\n",
    "workflow = graph.compile()"
   ]
  },
  {
   "cell_type": "code",
   "execution_count": 33,
   "id": "b1883ddd",
   "metadata": {},
   "outputs": [
    {
     "data": {
      "text/plain": [
       "{'review': 'product is good', 'sentiment': 'positive'}"
      ]
     },
     "execution_count": 33,
     "metadata": {},
     "output_type": "execute_result"
    }
   ],
   "source": [
    "initial_state = {\"review\":\"product is good\"}\n",
    "final_state = workflow.invoke(initial_state)\n",
    "final_state"
   ]
  },
  {
   "cell_type": "code",
   "execution_count": 34,
   "id": "b405c843",
   "metadata": {},
   "outputs": [
    {
     "data": {
      "image/png": "[encoded data removed]",
      "text/plain": [
       "<langgraph.graph.state.CompiledStateGraph object at 0x00000228FA056B10>"
      ]
     },
     "execution_count": 34,
     "metadata": {},
     "output_type": "execute_result"
    }
   ],
   "source": [
    "workflow"
   ]
  },
  {
   "cell_type": "code",
   "execution_count": null,
   "id": "372a11c8",
   "metadata": {},
   "outputs": [],
   "source": []
  }
 ],
 "metadata": {
  "kernelspec": {
   "display_name": ".venv",
   "language": "python",
   "name": "python3"
  },
  "language_info": {
   "codemirror_mode": {
    "name": "ipython",
    "version": 3
   },
   "file_extension": ".py",
   "mimetype": "text/x-python",
   "name": "python",
   "nbconvert_exporter": "python",
   "pygments_lexer": "ipython3",
   "version": "3.12.5"
  }
 },
 "nbformat": 4,
 "nbformat_minor": 5
}
