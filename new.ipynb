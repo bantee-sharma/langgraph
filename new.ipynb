{
 "cells": [
  {
   "cell_type": "code",
   "execution_count": 49,
   "id": "c891657b",
   "metadata": {},
   "outputs": [],
   "source": [
    "from langchain_google_genai import ChatGoogleGenerativeAI\n",
    "from dotenv import load_dotenv\n",
    "from langgraph.graph import StateGraph, END, START, add_messages\n",
    "from typing import TypedDict, Annotated\n",
    "from langchain_core.messages import HumanMessage, BaseMessage\n",
    "from langgraph.checkpoint.memory import MemorySaver"
   ]
  },
  {
   "cell_type": "code",
   "execution_count": 50,
   "id": "4766fb89",
   "metadata": {},
   "outputs": [],
   "source": [
    "load_dotenv()\n",
    "llm = ChatGoogleGenerativeAI(model=\"gemini-2.5-flash\")"
   ]
  },
  {
   "cell_type": "code",
   "execution_count": 51,
   "id": "e8f43337",
   "metadata": {},
   "outputs": [],
   "source": [
    "class ChatbotState(TypedDict):\n",
    "    messages: Annotated[list[BaseMessage], add_messages]"
   ]
  },
  {
   "cell_type": "code",
   "execution_count": 52,
   "id": "8675f2d4",
   "metadata": {},
   "outputs": [],
   "source": [
    "def chatnode(state: ChatbotState):\n",
    "\n",
    "    messages = state[\"messages\"]\n",
    "    response = llm.invoke(messages)\n",
    "    return {\"messages\": [response]}"
   ]
  },
  {
   "cell_type": "code",
   "execution_count": 54,
   "id": "fa55bead",
   "metadata": {},
   "outputs": [],
   "source": [
    "checkpointer = MemorySaver()\n",
    "graph = StateGraph(ChatbotState)\n",
    "\n",
    "graph.add_node(\"chatnode\",chatnode)\n",
    "\n",
    "graph.add_edge(START, \"chatnode\")\n",
    "graph.add_edge(\"chatnode\",END)\n",
    "\n",
    "workflow = graph.compile(checkpointer=checkpointer)"
   ]
  },
  {
   "cell_type": "code",
   "execution_count": 55,
   "id": "36c5d729",
   "metadata": {},
   "outputs": [
    {
     "name": "stdout",
     "output_type": "stream",
     "text": [
      "Me: hii\n",
      "AI: Hi there! How can I help you today?\n",
      "Me: my name is bantee sharma what is your name\n",
      "AI: It's nice to meet you, Bantee Sharma!\n",
      "\n",
      "I don't have a name like a person does. I am a large language model, trained by Google. You can just call me a language model or an AI.\n",
      "Me: okay, add 10 an 5\n",
      "AI: 10 + 5 = 15\n",
      "Me: can you talk to me, taking my name\n",
      "AI: Certainly, Bantee Sharma! I can definitely do that.\n",
      "\n",
      "So, how can I assist you further today, Bantee Sharma?\n",
      "Me: if i want change my name so what name sholud i took\n",
      "AI: That's a really personal and exciting decision, Bantee Sharma! The best name for you is one that truly resonates with *you* and makes you feel good.\n",
      "\n",
      "I can't tell you *what* name you *should* take, because it's such a personal choice, but I can certainly help you think through the process and brainstorm ideas!\n",
      "\n",
      "To help you decide, consider these questions:\n",
      "\n",
      "1.  **What kind of feeling or meaning do you want your new name to convey?** (e.g., strong, peaceful, joyful, unique, traditional, modern, connected to nature, a specific virtue?)\n",
      "2.  **Do you prefer a name that is:**\n",
      "    *   Common or unique?\n",
      "    *   Short or long?\n",
      "    *   Traditional or modern?\n",
      "    *   Soft-sounding or strong-sounding?\n",
      "3.  **Do you want a name that reflects a specific culture or heritage, or are you open to names from any origin?**\n",
      "4.  **How does it sound with your last name (Sharma)?** Say it out loud a few times.\n",
      "5.  **Do you like the idea of potential nicknames, or do you prefer a name that stands alone?**\n",
      "6.  **Are there any letters you particularly like or dislike a name starting with?**\n",
      "7.  **Think about your personality.** Does a certain type of name feel more \"you\"?\n",
      "\n",
      "Once you have a few ideas or preferences in mind, Bantee Sharma, I can help you brainstorm specific names based on those criteria! For example, you could tell me:\n",
      "\n",
      "*   \"I like names that sound elegant and start with A.\"\n",
      "*   \"I want a strong, short name.\"\n",
      "*   \"I'm looking for names with a nature meaning.\"\n",
      "*   \"I prefer traditional Indian names.\"\n",
      "\n",
      "What are some of your initial thoughts or feelings about what kind of name you'd like?\n",
      "Me: short name\n",
      "AI: Okay, Bantee Sharma, you're looking for a short name! That's a great preference. Short names can be strong, sweet, modern, or classic.\n",
      "\n",
      "Here are some short name ideas, keeping in mind they can be for anyone, regardless of gender:\n",
      "\n",
      "**Short & Sweet (often 2-4 letters):**\n",
      "\n",
      "*   **Ava**\n",
      "*   **Mia**\n",
      "*   **Leo**\n",
      "*   **Kai**\n",
      "*   **Zoe**\n",
      "*   **Eve**\n",
      "*   **Sam**\n",
      "*   **Ben**\n",
      "*   **Max**\n",
      "*   **Ray**\n",
      "*   **Joy**\n",
      "*   **Sky / Skye**\n",
      "*   **Wren**\n",
      "*   **Finn**\n",
      "*   **Sage**\n",
      "*   **Noor**\n",
      "*   **Ira**\n",
      "*   **Dev**\n",
      "*   **Ari**\n",
      "\n",
      "**A little longer but still concise (often 4-5 letters, 1-2 syllables):**\n",
      "\n",
      "*   **Maya**\n",
      "*   **Liam**\n",
      "*   **Noah**\n",
      "*   **Owen**\n",
      "*   **Eliza**\n",
      "*   **Chloe**\n",
      "*   **Quinn**\n",
      "*   **Blair**\n",
      "*   **Jade**\n",
      "*   **Kian**\n",
      "*   **Rohan**\n",
      "*   **Anya**\n",
      "*   **Zara**\n",
      "\n",
      "Do any of these names, Bantee Sharma, catch your eye or sound appealing to you? Or do you have any other preferences, like a specific letter you like, or a particular origin you're interested in?\n",
      "Me: let it go\n",
      "AI: Understood, Bantee Sharma! We can definitely \"let it go\" when it comes to name suggestions for now.\n",
      "\n",
      "Is there anything else I can help you with today, Bantee Sharma? Perhaps something completely different?\n",
      "Me: can you mutliply result with 5\n",
      "AI: Certainly, Bantee Sharma!\n",
      "\n",
      "Just to confirm, are you referring to the result from our previous calculation (10 + 5 = **15**)?\n",
      "\n",
      "If so, then:\n",
      "\n",
      "15 * 5 = **75**\n",
      "Me: oky thanyou\n",
      "AI: You're very welcome, Bantee Sharma!\n",
      "\n",
      "Is there anything else I can assist you with today?\n",
      "Me: quit\n",
      "Ending, the chat.....\n"
     ]
    }
   ],
   "source": [
    "thread_id = \"1\"\n",
    "while True:\n",
    "\n",
    "    question = input(\"Ask me:\")\n",
    "    print(\"Me:\",question)\n",
    "    if question.lower().strip() in [\"quit\",\"exit\"]:\n",
    "        print(\"Ending, the chat.....\")\n",
    "        break\n",
    "    else:\n",
    "        config = {\"configurable\": {\"thread_id\": thread_id}}\n",
    "        reaponse = workflow.invoke({\"messages\": [HumanMessage(content=question)]}, config=config)\n",
    "        print(\"AI:\",reaponse[\"messages\"][-1].content)"
   ]
  },
  {
   "cell_type": "code",
   "execution_count": 11,
   "id": "217e3a41",
   "metadata": {},
   "outputs": [
    {
     "data": {
      "image/png": "[encoded data removed]",
      "text/plain": [
       "<langgraph.graph.state.CompiledStateGraph object at 0x00000216D1B11400>"
      ]
     },
     "execution_count": 11,
     "metadata": {},
     "output_type": "execute_result"
    }
   ],
   "source": [
    "workflow"
   ]
  },
  {
   "cell_type": "code",
   "execution_count": null,
   "id": "05f76983",
   "metadata": {},
   "outputs": [],
   "source": []
  }
 ],
 "metadata": {
  "kernelspec": {
   "display_name": ".venv",
   "language": "python",
   "name": "python3"
  },
  "language_info": {
   "codemirror_mode": {
    "name": "ipython",
    "version": 3
   },
   "file_extension": ".py",
   "mimetype": "text/x-python",
   "name": "python",
   "nbconvert_exporter": "python",
   "pygments_lexer": "ipython3",
   "version": "3.12.5"
  }
 },
 "nbformat": 4,
 "nbformat_minor": 5
}
