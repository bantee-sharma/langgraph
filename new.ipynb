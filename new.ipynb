{
 "cells": [
  {
   "cell_type": "code",
   "execution_count": 4,
   "id": "ccea32d1",
   "metadata": {},
   "outputs": [],
   "source": [
    "from langchain_google_genai import ChatGoogleGenerativeAI\n",
    "from langgraph.graph import StateGraph, END, START\n",
    "from dotenv import load_dotenv\n",
    "from langchain_core.messages import HumanMessage, SystemMessage"
   ]
  },
  {
   "cell_type": "code",
   "execution_count": 5,
   "id": "814ef2d1",
   "metadata": {},
   "outputs": [],
   "source": [
    "load_dotenv()\n",
    "llm = ChatGoogleGenerativeAI(model=\"gemini-2.0-flash\")"
   ]
  },
  {
   "cell_type": "code",
   "execution_count": 9,
   "id": "a45e3eff",
   "metadata": {},
   "outputs": [],
   "source": [
    "chat_history = [SystemMessage(content=\"You are a helpfull Ai assitant.\")]"
   ]
  },
  {
   "cell_type": "code",
   "execution_count": 11,
   "id": "dd85a716",
   "metadata": {},
   "outputs": [
    {
     "name": "stdout",
     "output_type": "stream",
     "text": [
      "Hi there! How can I help you today?\n",
      "Hello there! How can I help you today?\n",
      "I am doing well, thank you for asking! How are you today?\n",
      "Hello Bantee Sharma, it's nice to meet you! I'm doing well, thank you for asking. How can I help you today?\n",
      "It's nice to meet you, Bantee Sharma! How can I help you today?\n",
      "Your name is Bantee Shrma.\n",
      "Your name is Bantee Shrma.\n",
      "10 + 2 = 12\n",
      "Okay!\n",
      "\n",
      "*   10 + 2 = 12\n",
      "*   12 * 2 = 24\n",
      "\n",
      "The final result is 24.\n",
      "Ending...\n"
     ]
    }
   ],
   "source": [
    "while True:\n",
    "\n",
    "    question = input(HumanMessage(content= \"Me: \"))\n",
    "    chat_history.append(question)\n",
    "    if question.strip().lower() in [\"quit\",\"exit\"]:\n",
    "        print(\"Ending...\")\n",
    "        break\n",
    "    else:\n",
    "        res = llm.invoke(chat_history)\n",
    "\n",
    "        print(res.content)"
   ]
  },
  {
   "cell_type": "code",
   "execution_count": null,
   "id": "1551f078",
   "metadata": {},
   "outputs": [],
   "source": []
  }
 ],
 "metadata": {
  "kernelspec": {
   "display_name": ".venv",
   "language": "python",
   "name": "python3"
  },
  "language_info": {
   "codemirror_mode": {
    "name": "ipython",
    "version": 3
   },
   "file_extension": ".py",
   "mimetype": "text/x-python",
   "name": "python",
   "nbconvert_exporter": "python",
   "pygments_lexer": "ipython3",
   "version": "3.12.5"
  }
 },
 "nbformat": 4,
 "nbformat_minor": 5
}
