{
 "cells": [
  {
   "cell_type": "code",
   "execution_count": 37,
   "id": "ccea32d1",
   "metadata": {},
   "outputs": [],
   "source": [
    "from langchain_google_genai import ChatGoogleGenerativeAI\n",
    "from langgraph.graph import StateGraph, END, START, add_messages\n",
    "from dotenv import load_dotenv\n",
    "from langchain_core.messages import HumanMessage, SystemMessage, BaseMessage\n",
    "from typing import TypedDict, Annotated"
   ]
  },
  {
   "cell_type": "code",
   "execution_count": 38,
   "id": "814ef2d1",
   "metadata": {},
   "outputs": [],
   "source": [
    "load_dotenv()\n",
    "llm = ChatGoogleGenerativeAI(model=\"gemini-2.0-flash\")"
   ]
  },
  {
   "cell_type": "code",
   "execution_count": 47,
   "id": "1551f078",
   "metadata": {},
   "outputs": [],
   "source": [
    "class ChatbotSchema(TypedDict):\n",
    "    message: Annotated[list[BaseMessage], add_messages]"
   ]
  },
  {
   "cell_type": "code",
   "execution_count": 48,
   "id": "d96224f5",
   "metadata": {},
   "outputs": [],
   "source": [
    "def func(state: ChatbotSchema):\n",
    "\n",
    "    message = state[\"message\"]\n",
    "    response = llm.invoke(message)\n",
    "    return {\"message\": [response]}"
   ]
  },
  {
   "cell_type": "code",
   "execution_count": 49,
   "id": "11a8b8b6",
   "metadata": {},
   "outputs": [],
   "source": [
    "graph = StateGraph(ChatbotSchema)\n",
    "\n",
    "graph.add_node(\"func\",func)\n",
    "\n",
    "graph.add_edge(START,\"func\")\n",
    "graph.add_edge(\"func\",END)\n",
    "\n",
    "workflow = graph.compile()"
   ]
  },
  {
   "cell_type": "code",
   "execution_count": 53,
   "id": "bb3fc4e0",
   "metadata": {},
   "outputs": [
    {
     "data": {
      "text/plain": [
       "'Hi there! How can I help you today?'"
      ]
     },
     "execution_count": 53,
     "metadata": {},
     "output_type": "execute_result"
    }
   ],
   "source": [
    "workflow.invoke({\"message\":\"hii\"})[\"message\"][-1].content"
   ]
  },
  {
   "cell_type": "code",
   "execution_count": null,
   "id": "3747135a",
   "metadata": {},
   "outputs": [],
   "source": []
  }
 ],
 "metadata": {
  "kernelspec": {
   "display_name": ".venv",
   "language": "python",
   "name": "python3"
  },
  "language_info": {
   "codemirror_mode": {
    "name": "ipython",
    "version": 3
   },
   "file_extension": ".py",
   "mimetype": "text/x-python",
   "name": "python",
   "nbconvert_exporter": "python",
   "pygments_lexer": "ipython3",
   "version": "3.12.5"
  }
 },
 "nbformat": 4,
 "nbformat_minor": 5
}
