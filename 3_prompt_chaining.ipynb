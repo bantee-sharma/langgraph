{
 "cells": [
  {
   "cell_type": "code",
   "execution_count": 10,
   "id": "d9fc8388",
   "metadata": {},
   "outputs": [],
   "source": [
    "from langgraph.graph import StateGraph, END, START\n",
    "from typing import TypedDict\n",
    "from langchain_google_genai import ChatGoogleGenerativeAI\n",
    "from dotenv import load_dotenv\n",
    "from langchain_core.prompts import PromptTemplate"
   ]
  },
  {
   "cell_type": "code",
   "execution_count": 11,
   "id": "f0178c7f",
   "metadata": {},
   "outputs": [],
   "source": [
    "load_dotenv()\n",
    "\n",
    "llm = ChatGoogleGenerativeAI(model=\"gemini-2.0-flash\")"
   ]
  },
  {
   "cell_type": "code",
   "execution_count": 34,
   "id": "d8555aa6",
   "metadata": {},
   "outputs": [],
   "source": [
    "class ChainPrompt(TypedDict):\n",
    "\n",
    "    topic: str\n",
    "    outline: str\n",
    "    blog: str\n",
    "    score: int"
   ]
  },
  {
   "cell_type": "code",
   "execution_count": 35,
   "id": "bc0918c7",
   "metadata": {},
   "outputs": [],
   "source": [
    "def outline(state: ChainPrompt) -> ChainPrompt:\n",
    "\n",
    "    topic = state[\"topic\"]\n",
    "\n",
    "    prompt = f\"Generate a outline on this topic - {topic}\"\n",
    "\n",
    "    outline = llm.invoke(prompt).content\n",
    "\n",
    "    state[\"outline\"] = outline\n",
    "\n",
    "    return state"
   ]
  },
  {
   "cell_type": "code",
   "execution_count": 36,
   "id": "ee3559f9",
   "metadata": {},
   "outputs": [],
   "source": [
    "def gen_blog(state: ChainPrompt) -> ChainPrompt:\n",
    "\n",
    "    outline = state[\"outline\"]\n",
    "\n",
    "    prompt = f\"Generate a detailed blog on the following outtile {outline}\"\n",
    "\n",
    "    blog = llm.invoke(prompt).content\n",
    "\n",
    "    state[\"blog\"] = blog\n",
    "\n",
    "    return state"
   ]
  },
  {
   "cell_type": "code",
   "execution_count": 37,
   "id": "0c09332a",
   "metadata": {},
   "outputs": [],
   "source": [
    "def evaulate(state: ChainPrompt) -> ChainPrompt:\n",
    "\n",
    "    outline = state[\"outline\"]\n",
    "    blog = state[\"blog\"]\n",
    "\n",
    "    prompt = f\"Based on my outline {outline}, rate my blog {blog} between 1 to 10. Only output the number.\"\n",
    "    score = llm.invoke(prompt).content\n",
    "\n",
    "    state[\"score\"] = score\n",
    "    return state"
   ]
  },
  {
   "cell_type": "code",
   "execution_count": 38,
   "id": "3af96d2f",
   "metadata": {},
   "outputs": [],
   "source": [
    "graph = StateGraph(ChainPrompt)\n",
    "\n",
    "graph.add_node(\"create_outline\",outline)\n",
    "graph.add_node(\"gen_blog\",gen_blog)\n",
    "graph.add_node(\"evaulate\",evaulate)\n",
    "\n",
    "graph.add_edge(START, \"create_outline\")\n",
    "graph.add_edge(\"create_outline\",\"gen_blog\")\n",
    "graph.add_edge(\"gen_blog\",\"evaulate\")\n",
    "graph.add_edge(\"evaulate\",END)\n",
    "\n",
    "workflow = graph.compile()"
   ]
  },
  {
   "cell_type": "code",
   "execution_count": 39,
   "id": "37145511",
   "metadata": {},
   "outputs": [
    {
     "name": "stdout",
     "output_type": "stream",
     "text": [
      "{'topic': 'Rise of AI in India', 'outline': '## Rise of AI in India: Outline\\n\\n**I. Introduction**\\n\\n   *   A. Hook: Start with a compelling statistic or anecdote showcasing the growing impact of AI in India.\\n   *   B. Background: Briefly define Artificial Intelligence (AI) and its significance in the 21st century.\\n   *   C. Thesis Statement: Clearly state the main argument, e.g., \"The rise of AI in India is driven by a confluence of factors, including government initiatives, a burgeoning tech talent pool, and growing demand across various sectors, presenting both significant opportunities and challenges for the nation.\"\\n   *   D. Outline preview: Briefly mention the key areas to be covered in the essay.\\n\\n**II. Drivers of AI Adoption in India**\\n\\n   *   A. Government Initiatives and Policies\\n        *   1.  National Strategy for Artificial Intelligence (\"AI for All\")\\n        *   2.  Focus on research and development (R&D) funding and infrastructure.\\n        *   3.  Promotion of AI skills development and education.\\n        *   4.  Government use cases of AI (e.g., agriculture, healthcare).\\n   *   B. Thriving Tech Talent Pool\\n        *   1.  Large and growing pool of STEM graduates.\\n        *   2.  Skilled workforce in IT and software development.\\n        *   3.  Increasing availability of specialized AI training programs.\\n        *   4.  Returning Indian diaspora bringing AI expertise.\\n   *   C. Growing Demand Across Sectors\\n        *   1.  **Healthcare:** AI-powered diagnostics, personalized medicine, drug discovery.\\n        *   2.  **Agriculture:** Precision farming, crop monitoring, yield prediction.\\n        *   3.  **Finance:** Fraud detection, risk management, personalized banking.\\n        *   4.  **Retail:** Customer service chatbots, personalized recommendations, supply chain optimization.\\n        *   5.  **Manufacturing:** Automation, predictive maintenance, quality control.\\n   *   D. Data Availability and Infrastructure\\n        *   1.  Increasing internet penetration and smartphone usage.\\n        *   2.  Growing data generation and storage capacity.\\n        *   3.  Improved cloud computing infrastructure.\\n        *   4.  Initiatives for data sharing and open data platforms.\\n\\n**III. Opportunities Presented by AI in India**\\n\\n   *   A. Economic Growth and Job Creation\\n        *   1.  Potential for increased productivity and efficiency.\\n        *   2.  Emergence of new AI-related industries and jobs.\\n        *   3.  Attracting foreign investment in the AI sector.\\n   *   B. Addressing Societal Challenges\\n        *   1.  Improving healthcare access and affordability.\\n        *   2.  Enhancing agricultural productivity and food security.\\n        *   3.  Improving education quality and accessibility.\\n        *   4.  Enhancing governance and public service delivery.\\n   *   C. Global Competitiveness\\n        *   1.  Positioning India as a global AI hub.\\n        *   2.  Developing innovative AI solutions for global markets.\\n        *   3.  Competing with other countries in AI research and development.\\n\\n**IV. Challenges and Concerns**\\n\\n   *   A. Ethical Considerations\\n        *   1.  Bias in AI algorithms and data.\\n        *   2.  Privacy concerns related to data collection and usage.\\n        *   3.  Accountability and transparency in AI decision-making.\\n   *   B. Job Displacement\\n        *   1.  Potential for automation to displace workers in certain sectors.\\n        *   2.  Need for reskilling and upskilling initiatives.\\n        *   3.  Creating new job opportunities in the AI sector.\\n   *   C. Infrastructure Gaps\\n        *   1.  Uneven access to internet and computing resources.\\n        *   2.  Need for improved data infrastructure and cybersecurity.\\n        *   3.  Lack of adequate funding for AI research and development.\\n   *   D. Skills Gap\\n        *   1.  Shortage of skilled AI professionals.\\n        *   2.  Need for more specialized AI training programs.\\n        *   3.  Attracting and retaining top AI talent.\\n\\n**V. The Future of AI in India**\\n\\n   *   A. Emerging Trends and Technologies\\n        *   1.  Edge computing and AI.\\n        *   2.  AI-powered cybersecurity.\\n        *   3.  AI in healthcare and biotechnology.\\n        *   4.  AI for sustainable development.\\n   *   B. Policy Recommendations\\n        *   1.  Strengthening data privacy regulations.\\n        *   2.  Promoting ethical AI development and deployment.\\n        *   3.  Investing in AI education and training.\\n        *   4.  Supporting AI research and innovation.\\n   *   C. Potential Scenarios\\n        *   1.  Optimistic scenario: India becomes a global AI leader, driving economic growth and addressing societal challenges.\\n        *   2.  Pessimistic scenario: Ethical concerns, job displacement, and infrastructure gaps hinder AI development and deployment.\\n   *   D. Importance of collaboration between government, industry, and academia to ensure responsible and inclusive AI development.\\n\\n**VI. Conclusion**\\n\\n   *   A. Restate the thesis in a new and compelling way.\\n   *   B. Summarize the key points discussed in the essay.\\n   *   C. Offer a final thought or call to action regarding the future of AI in India. (e.g., \"By addressing the challenges and embracing the opportunities, India can harness the transformative power of AI to build a more prosperous and equitable future for all.\")', 'blog': '## The Rise of AI in India: A Nation on the Cusp of Transformation\\n\\n**I. Introduction**\\n\\n*   **A. Hook:** Imagine a future where a farmer in rural Maharashtra uses AI-powered sensors to optimize irrigation, increasing crop yield by 30% and doubling their income. This isn\\'t a distant dream; it\\'s a rapidly approaching reality fueled by the burgeoning Artificial Intelligence (AI) revolution in India.\\n*   **B. Background:** Artificial Intelligence, the ability of computer systems to perform tasks that typically require human intelligence, is rapidly transforming industries worldwide. From self-driving cars to personalized medicine, AI is poised to reshape our lives in profound ways.\\n*   **C. Thesis Statement:** The rise of AI in India is driven by a confluence of factors, including proactive government initiatives, a burgeoning tech talent pool, and growing demand across various sectors, presenting both significant opportunities and challenges for the nation as it aims to leverage this technology for economic growth and social progress.\\n*   **D. Outline Preview:** This blog will explore the drivers behind AI adoption in India, the vast opportunities it presents, the challenges that need to be addressed, and the potential future scenarios for AI in the country.\\n\\n**II. Drivers of AI Adoption in India**\\n\\n*   **A. Government Initiatives and Policies:** The Indian government recognizes the transformative potential of AI and is actively promoting its development and adoption.\\n    *   1.  **National Strategy for Artificial Intelligence (\"AI for All\"):** This strategy outlines the government\\'s vision for leveraging AI to address societal challenges and drive economic growth, focusing on areas like healthcare, agriculture, and education.\\n    *   2.  **Focus on Research and Development (R&D) Funding and Infrastructure:** The government is investing in R&D infrastructure and providing funding for AI-related research projects to foster innovation.\\n    *   3.  **Promotion of AI Skills Development and Education:** Initiatives are underway to integrate AI into educational curricula and provide specialized AI training programs to build a skilled workforce.\\n    *   4.  **Government Use Cases of AI (e.g., Agriculture, Healthcare):** The government is piloting AI-powered solutions in various sectors, showcasing its potential and encouraging wider adoption. Examples include using AI for crop yield prediction and improving healthcare access in remote areas.\\n*   **B. Thriving Tech Talent Pool:** India boasts a large and rapidly growing pool of tech talent, making it a fertile ground for AI development.\\n    *   1.  **Large and Growing Pool of STEM Graduates:** Millions of students graduate with STEM degrees each year, providing a steady stream of potential AI professionals.\\n    *   2.  **Skilled Workforce in IT and Software Development:** India\\'s established IT and software development industry provides a solid foundation for AI development.\\n    *   3.  **Increasing Availability of Specialized AI Training Programs:** Numerous universities and online platforms are offering specialized AI training programs to meet the growing demand for skilled professionals.\\n    *   4.  **Returning Indian Diaspora Bringing AI Expertise:** Many Indian professionals with AI expertise are returning to India, contributing to the growth of the AI ecosystem.\\n*   **C. Growing Demand Across Sectors:** The demand for AI solutions is rapidly increasing across various sectors in India.\\n    *   1.  **Healthcare:** AI-powered diagnostics are enabling faster and more accurate diagnoses, personalized medicine is tailoring treatments to individual patients, and drug discovery is being accelerated through AI algorithms.\\n    *   2.  **Agriculture:** Precision farming techniques, powered by AI, are optimizing resource utilization and increasing crop yields. AI-powered crop monitoring systems are helping farmers detect and address problems early on.\\n    *   3.  **Finance:** AI is being used to detect fraud, manage risk, and provide personalized banking services to customers.\\n    *   4.  **Retail:** Customer service chatbots are providing instant support, personalized recommendations are driving sales, and AI-powered supply chain optimization is improving efficiency.\\n    *   5.  **Manufacturing:** Automation is increasing productivity, predictive maintenance is reducing downtime, and AI-powered quality control is ensuring higher product standards.\\n*   **D. Data Availability and Infrastructure:** The increasing availability of data and improvements in infrastructure are crucial for AI development and deployment.\\n    *   1.  **Increasing Internet Penetration and Smartphone Usage:** With a rapidly growing internet user base and widespread smartphone adoption, India is generating vast amounts of data.\\n    *   2.  **Growing Data Generation and Storage Capacity:** The capacity to generate and store data is increasing rapidly, providing the raw material for AI algorithms.\\n    *   3.  **Improved Cloud Computing Infrastructure:** The availability of affordable and reliable cloud computing infrastructure is enabling businesses and researchers to access the resources they need to develop and deploy AI solutions.\\n    *   4.  **Initiatives for Data Sharing and Open Data Platforms:** Government initiatives are promoting data sharing and the creation of open data platforms, making data more accessible for AI development.\\n\\n**III. Opportunities Presented by AI in India**\\n\\n*   **A. Economic Growth and Job Creation:** AI has the potential to significantly boost India\\'s economic growth and create new job opportunities.\\n    *   1.  **Potential for Increased Productivity and Efficiency:** AI can automate tasks, optimize processes, and improve decision-making, leading to increased productivity and efficiency across various sectors.\\n    *   2.  **Emergence of New AI-Related Industries and Jobs:** The growth of the AI sector will create new industries and jobs in areas like AI development, data science, and AI consulting.\\n    *   3.  **Attracting Foreign Investment in the AI Sector:** India\\'s growing AI ecosystem is attracting foreign investment from companies looking to tap into its talent pool and market potential.\\n*   **B. Addressing Societal Challenges:** AI can be used to address some of India\\'s most pressing societal challenges.\\n    *   1.  **Improving Healthcare Access and Affordability:** AI can improve healthcare access and affordability by enabling remote diagnostics, personalized medicine, and more efficient healthcare delivery.\\n    *   2.  **Enhancing Agricultural Productivity and Food Security:** AI can enhance agricultural productivity and food security by optimizing resource utilization, predicting crop yields, and helping farmers make better decisions.\\n    *   3.  **Improving Education Quality and Accessibility:** AI can improve education quality and accessibility by providing personalized learning experiences, automating administrative tasks, and making education more accessible to students in remote areas.\\n    *   4.  **Enhancing Governance and Public Service Delivery:** AI can enhance governance and public service delivery by automating tasks, improving decision-making, and making government services more accessible to citizens.\\n*   **C. Global Competitiveness:** AI can help India become a more competitive player in the global economy.\\n    *   1.  **Positioning India as a Global AI Hub:** India has the potential to become a global AI hub, attracting talent and investment from around the world.\\n    *   2.  **Developing Innovative AI Solutions for Global Markets:** India can develop innovative AI solutions for global markets, leveraging its unique strengths and addressing global challenges.\\n    *   3.  **Competing with Other Countries in AI Research and Development:** India can compete with other countries in AI research and development, contributing to the global advancement of AI.\\n\\n**IV. Challenges and Concerns**\\n\\n*   **A. Ethical Considerations:** The development and deployment of AI raise several ethical considerations that need to be addressed.\\n    *   1.  **Bias in AI Algorithms and Data:** AI algorithms can be biased if they are trained on biased data, leading to unfair or discriminatory outcomes.\\n    *   2.  **Privacy Concerns Related to Data Collection and Usage:** The collection and usage of data for AI development raise privacy concerns that need to be addressed through robust data protection regulations.\\n    *   3.  **Accountability and Transparency in AI Decision-Making:** It is important to ensure accountability and transparency in AI decision-making, so that individuals can understand how AI systems are making decisions and hold them accountable for their actions.\\n*   **B. Job Displacement:** The automation potential of AI raises concerns about job displacement in certain sectors.\\n    *   1.  **Potential for Automation to Displace Workers in Certain Sectors:** AI-powered automation can displace workers in sectors like manufacturing, customer service, and transportation.\\n    *   2.  **Need for Reskilling and Upskilling Initiatives:** It is important to invest in reskilling and upskilling initiatives to help workers adapt to the changing job market and acquire the skills they need to succeed in the AI era.\\n    *   3.  **Creating New Job Opportunities in the AI Sector:** While AI may displace some jobs, it will also create new job opportunities in the AI sector.\\n*   **C. Infrastructure Gaps:** Infrastructure gaps can hinder the development and deployment of AI in India.\\n    *   1.  **Uneven Access to Internet and Computing Resources:** Uneven access to internet and computing resources can limit the ability of individuals and businesses to participate in the AI revolution.\\n    *   2.  **Need for Improved Data Infrastructure and Cybersecurity:** Improved data infrastructure and cybersecurity are essential for protecting data and ensuring the security of AI systems.\\n    *   3.  **Lack of Adequate Funding for AI Research and Development:** A lack of adequate funding for AI research and development can slow down innovation and limit India\\'s ability to compete with other countries.\\n*   **D. Skills Gap:** A shortage of skilled AI professionals can hinder the growth of the AI sector.\\n    *   1.  **Shortage of Skilled AI Professionals:** There is a shortage of skilled AI professionals in India, which is limiting the growth of the AI sector.\\n    *   2.  **Need for More Specialized AI Training Programs:** More specialized AI training programs are needed to address the skills gap and meet the growing demand for skilled professionals.\\n    *   3.  **Attracting and Retaining Top AI Talent:** It is important to attract and retain top AI talent to ensure that India can compete with other countries in the AI race.\\n\\n**V. The Future of AI in India**\\n\\n*   **A. Emerging Trends and Technologies:** Several emerging trends and technologies are shaping the future of AI in India.\\n    *   1.  **Edge Computing and AI:** Edge computing is bringing AI processing closer to the data source, enabling faster and more efficient AI applications.\\n    *   2.  **AI-Powered Cybersecurity:** AI is being used to develop more sophisticated cybersecurity solutions that can detect and prevent cyberattacks.\\n    *   3.  **AI in Healthcare and Biotechnology:** AI is transforming healthcare and biotechnology, enabling new discoveries and improving patient outcomes.\\n    *   4.  **AI for Sustainable Development:** AI is being used to address sustainable development challenges, such as climate change, resource management, and poverty reduction.\\n*   **B. Policy Recommendations:** Several policy recommendations can help ensure the responsible and inclusive development of AI in India.\\n    *   1.  **Strengthening Data Privacy Regulations:** Strengthening data privacy regulations is essential for protecting data and building trust in AI systems.\\n    *   2.  **Promoting Ethical AI Development and Deployment:** Promoting ethical AI development and deployment is essential for ensuring that AI systems are used in a fair and responsible manner.\\n    *   3.  **Investing in AI Education and Training:** Investing in AI education and training is essential for building a skilled workforce and ensuring that India can compete in the AI era.\\n    *   4.  **Supporting AI Research and Innovation:** Supporting AI research and innovation is essential for driving technological advancements and ensuring that India remains at the forefront of the AI revolution.\\n*   **C. Potential Scenarios:** Two potential scenarios illustrate the possible futures of AI in India.\\n    *   1.  **Optimistic Scenario:** India becomes a global AI leader, driving economic growth and addressing societal challenges through responsible and inclusive AI development.\\n    *   2.  **Pessimistic Scenario:** Ethical concerns, job displacement, and infrastructure gaps hinder AI development and deployment, leading to limited economic benefits and increased social inequality.\\n*   **D. Importance of Collaboration:** Collaboration between government, industry, and academia is crucial to navigate the complex landscape of AI and ensure its responsible and inclusive development, fostering innovation while mitigating potential risks.\\n\\n**VI. Conclusion**\\n\\n*   **A. Restate the Thesis:** India stands at a pivotal moment. The nation\\'s embrace of AI, fueled by strategic government initiatives, a dynamic tech talent pool, and soaring demand across sectors, promises transformative change.\\n*   **B. Summarize Key Points:** We\\'ve explored the driving forces behind AI adoption in India, the immense opportunities it presents for economic growth and social good, and the critical challenges that must be addressed, including ethical considerations, potential job displacement, and infrastructure gaps.\\n*   **C. Call to Action:** By proactively addressing these challenges, fostering collaboration, and prioritizing ethical considerations, India can unlock the full potential of AI to build a more prosperous, equitable, and sustainable future for all its citizens. The future is intelligent; the future is Indian.', 'score': '9'}\n"
     ]
    }
   ],
   "source": [
    "initial_state = {\"topic\":\"Rise of AI in India\"}\n",
    "\n",
    "final_state = workflow.invoke(initial_state)\n",
    "\n",
    "print(final_state)"
   ]
  },
  {
   "cell_type": "code",
   "execution_count": 42,
   "id": "1579e59d",
   "metadata": {},
   "outputs": [
    {
     "name": "stdout",
     "output_type": "stream",
     "text": [
      "## Rise of AI in India: Outline\n",
      "\n",
      "**I. Introduction**\n",
      "\n",
      "   *   A. Hook: Start with a compelling statistic or anecdote showcasing the growing impact of AI in India.\n",
      "   *   B. Background: Briefly define Artificial Intelligence (AI) and its significance in the 21st century.\n",
      "   *   C. Thesis Statement: Clearly state the main argument, e.g., \"The rise of AI in India is driven by a confluence of factors, including government initiatives, a burgeoning tech talent pool, and growing demand across various sectors, presenting both significant opportunities and challenges for the nation.\"\n",
      "   *   D. Outline preview: Briefly mention the key areas to be covered in the essay.\n",
      "\n",
      "**II. Drivers of AI Adoption in India**\n",
      "\n",
      "   *   A. Government Initiatives and Policies\n",
      "        *   1.  National Strategy for Artificial Intelligence (\"AI for All\")\n",
      "        *   2.  Focus on research and development (R&D) funding and infrastructure.\n",
      "        *   3.  Promotion of AI skills development and education.\n",
      "        *   4.  Government use cases of AI (e.g., agriculture, healthcare).\n",
      "   *   B. Thriving Tech Talent Pool\n",
      "        *   1.  Large and growing pool of STEM graduates.\n",
      "        *   2.  Skilled workforce in IT and software development.\n",
      "        *   3.  Increasing availability of specialized AI training programs.\n",
      "        *   4.  Returning Indian diaspora bringing AI expertise.\n",
      "   *   C. Growing Demand Across Sectors\n",
      "        *   1.  **Healthcare:** AI-powered diagnostics, personalized medicine, drug discovery.\n",
      "        *   2.  **Agriculture:** Precision farming, crop monitoring, yield prediction.\n",
      "        *   3.  **Finance:** Fraud detection, risk management, personalized banking.\n",
      "        *   4.  **Retail:** Customer service chatbots, personalized recommendations, supply chain optimization.\n",
      "        *   5.  **Manufacturing:** Automation, predictive maintenance, quality control.\n",
      "   *   D. Data Availability and Infrastructure\n",
      "        *   1.  Increasing internet penetration and smartphone usage.\n",
      "        *   2.  Growing data generation and storage capacity.\n",
      "        *   3.  Improved cloud computing infrastructure.\n",
      "        *   4.  Initiatives for data sharing and open data platforms.\n",
      "\n",
      "**III. Opportunities Presented by AI in India**\n",
      "\n",
      "   *   A. Economic Growth and Job Creation\n",
      "        *   1.  Potential for increased productivity and efficiency.\n",
      "        *   2.  Emergence of new AI-related industries and jobs.\n",
      "        *   3.  Attracting foreign investment in the AI sector.\n",
      "   *   B. Addressing Societal Challenges\n",
      "        *   1.  Improving healthcare access and affordability.\n",
      "        *   2.  Enhancing agricultural productivity and food security.\n",
      "        *   3.  Improving education quality and accessibility.\n",
      "        *   4.  Enhancing governance and public service delivery.\n",
      "   *   C. Global Competitiveness\n",
      "        *   1.  Positioning India as a global AI hub.\n",
      "        *   2.  Developing innovative AI solutions for global markets.\n",
      "        *   3.  Competing with other countries in AI research and development.\n",
      "\n",
      "**IV. Challenges and Concerns**\n",
      "\n",
      "   *   A. Ethical Considerations\n",
      "        *   1.  Bias in AI algorithms and data.\n",
      "        *   2.  Privacy concerns related to data collection and usage.\n",
      "        *   3.  Accountability and transparency in AI decision-making.\n",
      "   *   B. Job Displacement\n",
      "        *   1.  Potential for automation to displace workers in certain sectors.\n",
      "        *   2.  Need for reskilling and upskilling initiatives.\n",
      "        *   3.  Creating new job opportunities in the AI sector.\n",
      "   *   C. Infrastructure Gaps\n",
      "        *   1.  Uneven access to internet and computing resources.\n",
      "        *   2.  Need for improved data infrastructure and cybersecurity.\n",
      "        *   3.  Lack of adequate funding for AI research and development.\n",
      "   *   D. Skills Gap\n",
      "        *   1.  Shortage of skilled AI professionals.\n",
      "        *   2.  Need for more specialized AI training programs.\n",
      "        *   3.  Attracting and retaining top AI talent.\n",
      "\n",
      "**V. The Future of AI in India**\n",
      "\n",
      "   *   A. Emerging Trends and Technologies\n",
      "        *   1.  Edge computing and AI.\n",
      "        *   2.  AI-powered cybersecurity.\n",
      "        *   3.  AI in healthcare and biotechnology.\n",
      "        *   4.  AI for sustainable development.\n",
      "   *   B. Policy Recommendations\n",
      "        *   1.  Strengthening data privacy regulations.\n",
      "        *   2.  Promoting ethical AI development and deployment.\n",
      "        *   3.  Investing in AI education and training.\n",
      "        *   4.  Supporting AI research and innovation.\n",
      "   *   C. Potential Scenarios\n",
      "        *   1.  Optimistic scenario: India becomes a global AI leader, driving economic growth and addressing societal challenges.\n",
      "        *   2.  Pessimistic scenario: Ethical concerns, job displacement, and infrastructure gaps hinder AI development and deployment.\n",
      "   *   D. Importance of collaboration between government, industry, and academia to ensure responsible and inclusive AI development.\n",
      "\n",
      "**VI. Conclusion**\n",
      "\n",
      "   *   A. Restate the thesis in a new and compelling way.\n",
      "   *   B. Summarize the key points discussed in the essay.\n",
      "   *   C. Offer a final thought or call to action regarding the future of AI in India. (e.g., \"By addressing the challenges and embracing the opportunities, India can harness the transformative power of AI to build a more prosperous and equitable future for all.\")\n"
     ]
    }
   ],
   "source": [
    "print(final_state[\"outline\"])"
   ]
  },
  {
   "cell_type": "code",
   "execution_count": 41,
   "id": "cb1b2dae",
   "metadata": {},
   "outputs": [
    {
     "name": "stdout",
     "output_type": "stream",
     "text": [
      "## The Rise of AI in India: A Nation on the Cusp of Transformation\n",
      "\n",
      "**I. Introduction**\n",
      "\n",
      "*   **A. Hook:** Imagine a future where a farmer in rural Maharashtra uses AI-powered sensors to optimize irrigation, increasing crop yield by 30% and doubling their income. This isn't a distant dream; it's a rapidly approaching reality fueled by the burgeoning Artificial Intelligence (AI) revolution in India.\n",
      "*   **B. Background:** Artificial Intelligence, the ability of computer systems to perform tasks that typically require human intelligence, is rapidly transforming industries worldwide. From self-driving cars to personalized medicine, AI is poised to reshape our lives in profound ways.\n",
      "*   **C. Thesis Statement:** The rise of AI in India is driven by a confluence of factors, including proactive government initiatives, a burgeoning tech talent pool, and growing demand across various sectors, presenting both significant opportunities and challenges for the nation as it aims to leverage this technology for economic growth and social progress.\n",
      "*   **D. Outline Preview:** This blog will explore the drivers behind AI adoption in India, the vast opportunities it presents, the challenges that need to be addressed, and the potential future scenarios for AI in the country.\n",
      "\n",
      "**II. Drivers of AI Adoption in India**\n",
      "\n",
      "*   **A. Government Initiatives and Policies:** The Indian government recognizes the transformative potential of AI and is actively promoting its development and adoption.\n",
      "    *   1.  **National Strategy for Artificial Intelligence (\"AI for All\"):** This strategy outlines the government's vision for leveraging AI to address societal challenges and drive economic growth, focusing on areas like healthcare, agriculture, and education.\n",
      "    *   2.  **Focus on Research and Development (R&D) Funding and Infrastructure:** The government is investing in R&D infrastructure and providing funding for AI-related research projects to foster innovation.\n",
      "    *   3.  **Promotion of AI Skills Development and Education:** Initiatives are underway to integrate AI into educational curricula and provide specialized AI training programs to build a skilled workforce.\n",
      "    *   4.  **Government Use Cases of AI (e.g., Agriculture, Healthcare):** The government is piloting AI-powered solutions in various sectors, showcasing its potential and encouraging wider adoption. Examples include using AI for crop yield prediction and improving healthcare access in remote areas.\n",
      "*   **B. Thriving Tech Talent Pool:** India boasts a large and rapidly growing pool of tech talent, making it a fertile ground for AI development.\n",
      "    *   1.  **Large and Growing Pool of STEM Graduates:** Millions of students graduate with STEM degrees each year, providing a steady stream of potential AI professionals.\n",
      "    *   2.  **Skilled Workforce in IT and Software Development:** India's established IT and software development industry provides a solid foundation for AI development.\n",
      "    *   3.  **Increasing Availability of Specialized AI Training Programs:** Numerous universities and online platforms are offering specialized AI training programs to meet the growing demand for skilled professionals.\n",
      "    *   4.  **Returning Indian Diaspora Bringing AI Expertise:** Many Indian professionals with AI expertise are returning to India, contributing to the growth of the AI ecosystem.\n",
      "*   **C. Growing Demand Across Sectors:** The demand for AI solutions is rapidly increasing across various sectors in India.\n",
      "    *   1.  **Healthcare:** AI-powered diagnostics are enabling faster and more accurate diagnoses, personalized medicine is tailoring treatments to individual patients, and drug discovery is being accelerated through AI algorithms.\n",
      "    *   2.  **Agriculture:** Precision farming techniques, powered by AI, are optimizing resource utilization and increasing crop yields. AI-powered crop monitoring systems are helping farmers detect and address problems early on.\n",
      "    *   3.  **Finance:** AI is being used to detect fraud, manage risk, and provide personalized banking services to customers.\n",
      "    *   4.  **Retail:** Customer service chatbots are providing instant support, personalized recommendations are driving sales, and AI-powered supply chain optimization is improving efficiency.\n",
      "    *   5.  **Manufacturing:** Automation is increasing productivity, predictive maintenance is reducing downtime, and AI-powered quality control is ensuring higher product standards.\n",
      "*   **D. Data Availability and Infrastructure:** The increasing availability of data and improvements in infrastructure are crucial for AI development and deployment.\n",
      "    *   1.  **Increasing Internet Penetration and Smartphone Usage:** With a rapidly growing internet user base and widespread smartphone adoption, India is generating vast amounts of data.\n",
      "    *   2.  **Growing Data Generation and Storage Capacity:** The capacity to generate and store data is increasing rapidly, providing the raw material for AI algorithms.\n",
      "    *   3.  **Improved Cloud Computing Infrastructure:** The availability of affordable and reliable cloud computing infrastructure is enabling businesses and researchers to access the resources they need to develop and deploy AI solutions.\n",
      "    *   4.  **Initiatives for Data Sharing and Open Data Platforms:** Government initiatives are promoting data sharing and the creation of open data platforms, making data more accessible for AI development.\n",
      "\n",
      "**III. Opportunities Presented by AI in India**\n",
      "\n",
      "*   **A. Economic Growth and Job Creation:** AI has the potential to significantly boost India's economic growth and create new job opportunities.\n",
      "    *   1.  **Potential for Increased Productivity and Efficiency:** AI can automate tasks, optimize processes, and improve decision-making, leading to increased productivity and efficiency across various sectors.\n",
      "    *   2.  **Emergence of New AI-Related Industries and Jobs:** The growth of the AI sector will create new industries and jobs in areas like AI development, data science, and AI consulting.\n",
      "    *   3.  **Attracting Foreign Investment in the AI Sector:** India's growing AI ecosystem is attracting foreign investment from companies looking to tap into its talent pool and market potential.\n",
      "*   **B. Addressing Societal Challenges:** AI can be used to address some of India's most pressing societal challenges.\n",
      "    *   1.  **Improving Healthcare Access and Affordability:** AI can improve healthcare access and affordability by enabling remote diagnostics, personalized medicine, and more efficient healthcare delivery.\n",
      "    *   2.  **Enhancing Agricultural Productivity and Food Security:** AI can enhance agricultural productivity and food security by optimizing resource utilization, predicting crop yields, and helping farmers make better decisions.\n",
      "    *   3.  **Improving Education Quality and Accessibility:** AI can improve education quality and accessibility by providing personalized learning experiences, automating administrative tasks, and making education more accessible to students in remote areas.\n",
      "    *   4.  **Enhancing Governance and Public Service Delivery:** AI can enhance governance and public service delivery by automating tasks, improving decision-making, and making government services more accessible to citizens.\n",
      "*   **C. Global Competitiveness:** AI can help India become a more competitive player in the global economy.\n",
      "    *   1.  **Positioning India as a Global AI Hub:** India has the potential to become a global AI hub, attracting talent and investment from around the world.\n",
      "    *   2.  **Developing Innovative AI Solutions for Global Markets:** India can develop innovative AI solutions for global markets, leveraging its unique strengths and addressing global challenges.\n",
      "    *   3.  **Competing with Other Countries in AI Research and Development:** India can compete with other countries in AI research and development, contributing to the global advancement of AI.\n",
      "\n",
      "**IV. Challenges and Concerns**\n",
      "\n",
      "*   **A. Ethical Considerations:** The development and deployment of AI raise several ethical considerations that need to be addressed.\n",
      "    *   1.  **Bias in AI Algorithms and Data:** AI algorithms can be biased if they are trained on biased data, leading to unfair or discriminatory outcomes.\n",
      "    *   2.  **Privacy Concerns Related to Data Collection and Usage:** The collection and usage of data for AI development raise privacy concerns that need to be addressed through robust data protection regulations.\n",
      "    *   3.  **Accountability and Transparency in AI Decision-Making:** It is important to ensure accountability and transparency in AI decision-making, so that individuals can understand how AI systems are making decisions and hold them accountable for their actions.\n",
      "*   **B. Job Displacement:** The automation potential of AI raises concerns about job displacement in certain sectors.\n",
      "    *   1.  **Potential for Automation to Displace Workers in Certain Sectors:** AI-powered automation can displace workers in sectors like manufacturing, customer service, and transportation.\n",
      "    *   2.  **Need for Reskilling and Upskilling Initiatives:** It is important to invest in reskilling and upskilling initiatives to help workers adapt to the changing job market and acquire the skills they need to succeed in the AI era.\n",
      "    *   3.  **Creating New Job Opportunities in the AI Sector:** While AI may displace some jobs, it will also create new job opportunities in the AI sector.\n",
      "*   **C. Infrastructure Gaps:** Infrastructure gaps can hinder the development and deployment of AI in India.\n",
      "    *   1.  **Uneven Access to Internet and Computing Resources:** Uneven access to internet and computing resources can limit the ability of individuals and businesses to participate in the AI revolution.\n",
      "    *   2.  **Need for Improved Data Infrastructure and Cybersecurity:** Improved data infrastructure and cybersecurity are essential for protecting data and ensuring the security of AI systems.\n",
      "    *   3.  **Lack of Adequate Funding for AI Research and Development:** A lack of adequate funding for AI research and development can slow down innovation and limit India's ability to compete with other countries.\n",
      "*   **D. Skills Gap:** A shortage of skilled AI professionals can hinder the growth of the AI sector.\n",
      "    *   1.  **Shortage of Skilled AI Professionals:** There is a shortage of skilled AI professionals in India, which is limiting the growth of the AI sector.\n",
      "    *   2.  **Need for More Specialized AI Training Programs:** More specialized AI training programs are needed to address the skills gap and meet the growing demand for skilled professionals.\n",
      "    *   3.  **Attracting and Retaining Top AI Talent:** It is important to attract and retain top AI talent to ensure that India can compete with other countries in the AI race.\n",
      "\n",
      "**V. The Future of AI in India**\n",
      "\n",
      "*   **A. Emerging Trends and Technologies:** Several emerging trends and technologies are shaping the future of AI in India.\n",
      "    *   1.  **Edge Computing and AI:** Edge computing is bringing AI processing closer to the data source, enabling faster and more efficient AI applications.\n",
      "    *   2.  **AI-Powered Cybersecurity:** AI is being used to develop more sophisticated cybersecurity solutions that can detect and prevent cyberattacks.\n",
      "    *   3.  **AI in Healthcare and Biotechnology:** AI is transforming healthcare and biotechnology, enabling new discoveries and improving patient outcomes.\n",
      "    *   4.  **AI for Sustainable Development:** AI is being used to address sustainable development challenges, such as climate change, resource management, and poverty reduction.\n",
      "*   **B. Policy Recommendations:** Several policy recommendations can help ensure the responsible and inclusive development of AI in India.\n",
      "    *   1.  **Strengthening Data Privacy Regulations:** Strengthening data privacy regulations is essential for protecting data and building trust in AI systems.\n",
      "    *   2.  **Promoting Ethical AI Development and Deployment:** Promoting ethical AI development and deployment is essential for ensuring that AI systems are used in a fair and responsible manner.\n",
      "    *   3.  **Investing in AI Education and Training:** Investing in AI education and training is essential for building a skilled workforce and ensuring that India can compete in the AI era.\n",
      "    *   4.  **Supporting AI Research and Innovation:** Supporting AI research and innovation is essential for driving technological advancements and ensuring that India remains at the forefront of the AI revolution.\n",
      "*   **C. Potential Scenarios:** Two potential scenarios illustrate the possible futures of AI in India.\n",
      "    *   1.  **Optimistic Scenario:** India becomes a global AI leader, driving economic growth and addressing societal challenges through responsible and inclusive AI development.\n",
      "    *   2.  **Pessimistic Scenario:** Ethical concerns, job displacement, and infrastructure gaps hinder AI development and deployment, leading to limited economic benefits and increased social inequality.\n",
      "*   **D. Importance of Collaboration:** Collaboration between government, industry, and academia is crucial to navigate the complex landscape of AI and ensure its responsible and inclusive development, fostering innovation while mitigating potential risks.\n",
      "\n",
      "**VI. Conclusion**\n",
      "\n",
      "*   **A. Restate the Thesis:** India stands at a pivotal moment. The nation's embrace of AI, fueled by strategic government initiatives, a dynamic tech talent pool, and soaring demand across sectors, promises transformative change.\n",
      "*   **B. Summarize Key Points:** We've explored the driving forces behind AI adoption in India, the immense opportunities it presents for economic growth and social good, and the critical challenges that must be addressed, including ethical considerations, potential job displacement, and infrastructure gaps.\n",
      "*   **C. Call to Action:** By proactively addressing these challenges, fostering collaboration, and prioritizing ethical considerations, India can unlock the full potential of AI to build a more prosperous, equitable, and sustainable future for all its citizens. The future is intelligent; the future is Indian.\n"
     ]
    }
   ],
   "source": [
    "print(final_state[\"blog\"])"
   ]
  },
  {
   "cell_type": "code",
   "execution_count": 44,
   "id": "2ebc327a",
   "metadata": {},
   "outputs": [
    {
     "name": "stdout",
     "output_type": "stream",
     "text": [
      "9\n"
     ]
    }
   ],
   "source": [
    "print(final_state[\"score\"])"
   ]
  },
  {
   "cell_type": "code",
   "execution_count": 24,
   "id": "ff5ca34d",
   "metadata": {},
   "outputs": [
    {
     "data": {
      "image/png": "[encoded data removed]",
      "text/plain": [
       "<IPython.core.display.Image object>"
      ]
     },
     "execution_count": 24,
     "metadata": {},
     "output_type": "execute_result"
    }
   ],
   "source": [
    "from IPython.display import Image\n",
    "Image(workflow.get_graph().draw_mermaid_png())"
   ]
  },
  {
   "cell_type": "code",
   "execution_count": null,
   "id": "1c161fcf",
   "metadata": {},
   "outputs": [],
   "source": []
  }
 ],
 "metadata": {
  "kernelspec": {
   "display_name": ".venv",
   "language": "python",
   "name": "python3"
  },
  "language_info": {
   "codemirror_mode": {
    "name": "ipython",
    "version": 3
   },
   "file_extension": ".py",
   "mimetype": "text/x-python",
   "name": "python",
   "nbconvert_exporter": "python",
   "pygments_lexer": "ipython3",
   "version": "3.12.5"
  }
 },
 "nbformat": 4,
 "nbformat_minor": 5
}
