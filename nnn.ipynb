{
 "cells": [
  {
   "cell_type": "code",
   "execution_count": 1,
   "id": "9411309e",
   "metadata": {},
   "outputs": [],
   "source": [
    "from langgraph.graph import StateGraph, START,END\n",
    "from typing import TypedDict"
   ]
  },
  {
   "cell_type": "code",
   "execution_count": 2,
   "id": "516f8db5",
   "metadata": {},
   "outputs": [],
   "source": [
    "class BatsMan(TypedDict):\n",
    "    runs: int\n",
    "    balls: int\n",
    "    fours: int\n",
    "    sixes: int\n",
    "\n",
    "    sr: float\n",
    "    bpb: float\n",
    "    boundary_percent: float\n",
    "    summary: str"
   ]
  },
  {
   "cell_type": "code",
   "execution_count": 7,
   "id": "dcaa89f8",
   "metadata": {},
   "outputs": [],
   "source": [
    "def strike_rate(state:BatsMan):\n",
    "    sr = round(state[\"runs\"]/state[\"balls\"],2)*100\n",
    "    return {\"sr\":sr}"
   ]
  },
  {
   "cell_type": "code",
   "execution_count": 19,
   "id": "bc6263fd",
   "metadata": {},
   "outputs": [],
   "source": [
    "def cal_bpb(state:BatsMan):\n",
    "\n",
    "    bpb = round(state[\"balls\"]/(state[\"fours\"] + state[\"sixes\"]),2)\n",
    "    return {\"bpb\":bpb}"
   ]
  },
  {
   "cell_type": "code",
   "execution_count": 33,
   "id": "02439192",
   "metadata": {},
   "outputs": [],
   "source": [
    "def boundary_per(state:BatsMan):\n",
    "\n",
    "    bp = (state[\"fours\"]*4 + state[\"sixes\"]*6)/state[\"runs\"]*100\n",
    "    return {\"boundary_percent\":bp}"
   ]
  },
  {
   "cell_type": "code",
   "execution_count": 37,
   "id": "2c8d7d4b",
   "metadata": {},
   "outputs": [],
   "source": [
    "def summary_gen(state:BatsMan):\n",
    "\n",
    "    summary = f\"strike_rate: {state[\"sr\"]}\\n bpb: {state[\"bpb\"]}\\n boundary_percentage: {state[\"boundary_percent\"]}\"\n",
    "    return {\"summary\":summary}"
   ]
  },
  {
   "cell_type": "code",
   "execution_count": 39,
   "id": "01d79d92",
   "metadata": {},
   "outputs": [],
   "source": [
    "graph = StateGraph(BatsMan)\n",
    "\n",
    "graph.add_node(\"sr\",strike_rate)\n",
    "graph.add_node(\"bpb\",cal_bpb)\n",
    "graph.add_node(\"bp\",boundary_per)\n",
    "graph.add_node(\"summary\",summary_gen)\n",
    "\n",
    "graph.add_edge(START,\"sr\")\n",
    "graph.add_edge(START,\"bpb\")\n",
    "graph.add_edge(START,\"bp\")\n",
    "\n",
    "\n",
    "graph.add_edge(\"sr\",\"summary\")\n",
    "graph.add_edge(\"bpb\",\"summary\")\n",
    "graph.add_edge(\"bp\",\"summary\")\n",
    "graph.add_edge(\"summary\",END)\n",
    "\n",
    "workflow = graph.compile()"
   ]
  },
  {
   "cell_type": "code",
   "execution_count": 43,
   "id": "d3b2ddee",
   "metadata": {},
   "outputs": [
    {
     "name": "stdout",
     "output_type": "stream",
     "text": [
      "{'runs': 100, 'balls': 50, 'fours': 10, 'sixes': 5, 'sr': 200.0, 'bpb': 3.33, 'boundary_percent': 70.0, 'summary': 'strike_rate: 200.0\\n bpb: 3.33\\n boundary_percentage: 70.0'}\n",
      "strike_rate: 200.0\n",
      " bpb: 3.33\n",
      " boundary_percentage: 70.0\n"
     ]
    }
   ],
   "source": [
    "intial_sate = {\"runs\":100,\"balls\":50,\"fours\":10,\"sixes\":5}\n",
    "final_state = workflow.invoke(intial_sate)\n",
    "print(final_state)\n",
    "\n",
    "print(final_state[\"summary\"])"
   ]
  },
  {
   "cell_type": "code",
   "execution_count": 41,
   "id": "9a1ee3e1",
   "metadata": {},
   "outputs": [
    {
     "data": {
      "image/png": "[encoded data removed]",
      "text/plain": [
       "<IPython.core.display.Image object>"
      ]
     },
     "execution_count": 41,
     "metadata": {},
     "output_type": "execute_result"
    }
   ],
   "source": [
    "from IPython.display import Image\n",
    "Image(workflow.get_graph().draw_mermaid_png())"
   ]
  },
  {
   "cell_type": "code",
   "execution_count": null,
   "id": "f86e1a85",
   "metadata": {},
   "outputs": [],
   "source": []
  }
 ],
 "metadata": {
  "kernelspec": {
   "display_name": ".venv",
   "language": "python",
   "name": "python3"
  },
  "language_info": {
   "codemirror_mode": {
    "name": "ipython",
    "version": 3
   },
   "file_extension": ".py",
   "mimetype": "text/x-python",
   "name": "python",
   "nbconvert_exporter": "python",
   "pygments_lexer": "ipython3",
   "version": "3.12.5"
  }
 },
 "nbformat": 4,
 "nbformat_minor": 5
}
