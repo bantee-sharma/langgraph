{
 "cells": [
  {
   "cell_type": "code",
   "execution_count": 10,
   "id": "016dd0ad",
   "metadata": {},
   "outputs": [],
   "source": [
    "from langchain_google_genai import ChatGoogleGenerativeAI\n",
    "from dotenv import load_dotenv\n",
    "from typing import TypedDict, Literal, Annotated\n",
    "from pydantic import BaseModel, Field\n",
    "from langgraph.graph import StateGraph, END, START\n",
    "from langchain_core.messages import HumanMessage, SystemMessage"
   ]
  },
  {
   "cell_type": "code",
   "execution_count": 11,
   "id": "d802eeed",
   "metadata": {},
   "outputs": [],
   "source": [
    "load_dotenv()\n",
    "\n",
    "gen_llm = ChatGoogleGenerativeAI(model=\"gemini-2.0-flash\")\n",
    "eva_llm = ChatGoogleGenerativeAI(model=\"gemini-2.0-flash\")\n",
    "opt_llm = ChatGoogleGenerativeAI(model=\"gemini-2.0-flash\")"
   ]
  },
  {
   "cell_type": "code",
   "execution_count": 12,
   "id": "82d55bc8",
   "metadata": {},
   "outputs": [],
   "source": [
    "class TweetEvaluation(BaseModel):\n",
    "    evaluation: Literal[\"approved\", \"needs_improvement\"] = Field(..., description=\"Final evaluation result.\")\n",
    "    feedback: str = Field(..., description=\"feedback for the tweet.\")"
   ]
  },
  {
   "cell_type": "code",
   "execution_count": 14,
   "id": "ace9dd37",
   "metadata": {},
   "outputs": [],
   "source": [
    "struc_eva_llm = eva_llm.with_structured_output(TweetEvaluation)"
   ]
  },
  {
   "cell_type": "code",
   "execution_count": 5,
   "id": "d022273a",
   "metadata": {},
   "outputs": [],
   "source": [
    "class TweetState(TypedDict):\n",
    "    topic: str\n",
    "    tweet: str\n",
    "    evaluation: Literal[\"approved\",\"needs_improvement\"]\n",
    "    feedback: str\n",
    "    iteration: int \n",
    "    max_iter: int \n"
   ]
  },
  {
   "cell_type": "code",
   "execution_count": 4,
   "id": "80215085",
   "metadata": {},
   "outputs": [],
   "source": [
    "def gen_tweet(state: TweetState):\n",
    "\n",
    "    message = [\n",
    "        SystemMessage(content=\"You are a funny and clever Twitter/X influencer.\"),\n",
    "        HumanMessage(content=f\"\"\"\n",
    "Write a short, original, and hilarious tweet on the topic: \"{state['topic']}\".\n",
    "\n",
    "Rules:\n",
    "- Do NOT use question-answer format.\n",
    "- Max 280 characters.\n",
    "- Use observational humor, irony, sarcasm, or cultural references.\n",
    "- Think in meme logic, punchlines, or relatable takes.\n",
    "- Use simple, day to day english\n",
    "\"\"\")\n",
    "    ]\n",
    "\n",
    "    response = gen_llm.invoke(message).content\n",
    "    return {\"tweet\": response}"
   ]
  },
  {
   "cell_type": "code",
   "execution_count": 15,
   "id": "8e3b9740",
   "metadata": {},
   "outputs": [],
   "source": [
    "def eva_tweet(state: TweetState):\n",
    "\n",
    "    message = [\n",
    "        SystemMessage(content=\"You are a ruthless, no-laugh-given Twitter critic. You evaluate tweets based on humor, originality, virality, and tweet format.\"),\n",
    "    HumanMessage(content=f\"\"\"\n",
    "    Evaluate the following tweet:\n",
    "\n",
    "    Tweet: \"{state['tweet']}\"\n",
    "\n",
    "    Use the criteria below to evaluate the tweet:\n",
    "\n",
    "    1. Originality - Is this fresh, or have you seen it a hundred times before?  \n",
    "    2. Humor - Did it genuinely make you smile, laugh, or chuckle?  \n",
    "    3. Punchiness - Is it short, sharp, and scroll-stopping?  \n",
    "    4. Virality Potential - Would people retweet or share it?  \n",
    "    5. Format - Is it a well-formed tweet (not a setup-punchline joke, not a Q&A joke, and under 280 characters)?\n",
    "\n",
    "    Auto-reject if:\n",
    "    - It's written in question-answer format (e.g., \"Why did...\" or \"What happens when...\")\n",
    "    - It exceeds 280 characters\n",
    "    - It reads like a traditional setup-punchline joke\n",
    "    - Dont end with generic, throwaway, or deflating lines that weaken the humor (e.g., “Masterpieces of the auntie-uncle universe” or vague summaries)\n",
    "\n",
    "    ### Respond ONLY in structured format:\n",
    "    - evaluation: \"approved\" or \"needs_improvement\"  \n",
    "    - feedback: One paragraph explaining the strengths and weaknesses \n",
    "    \"\"\")\n",
    "    ]\n",
    "\n",
    "    response = struc_eva_llm.invoke(message)\n",
    "\n",
    "    return {\"evaluation\":response.evaluation, \"feedback\":response.feedback}\n",
    "\n",
    "    "
   ]
  },
  {
   "cell_type": "code",
   "execution_count": 16,
   "id": "91a86056",
   "metadata": {},
   "outputs": [],
   "source": [
    "def opt_tweet(state: TweetState):\n",
    "\n",
    "    message = [\n",
    "        SystemMessage(content=\"You punch up tweets for virality and humor based on given feedback.\"),\n",
    "        HumanMessage(content=f\"\"\"\n",
    "    Improve the tweet based on this feedback:\n",
    "    \"{state['feedback']}\"\n",
    "\n",
    "    Topic: \"{state['topic']}\"\n",
    "    Original Tweet:\n",
    "    {state['tweet']}\n",
    "\n",
    "    Re-write it as a short, viral-worthy tweet. Avoid Q&A style and stay under 280 characters.\n",
    "    \"\"\")\n",
    "        ]\n",
    "\n",
    "    response = opt_llm.invoke(message).content\n",
    "    iteration = state[\"iteration\"]+1\n",
    "    return {'tweet': response, 'iteration': iteration}"
   ]
  },
  {
   "cell_type": "code",
   "execution_count": 19,
   "id": "a0b2bc4a",
   "metadata": {},
   "outputs": [],
   "source": [
    "def route(state: TweetState):\n",
    "    if state[\"evaluation\"] == \"approved\" or state[\"iteration\"] >= state[\"max_iter\"]:\n",
    "        return \"approved\"\n",
    "    else:\n",
    "        return \"needs_improvement\""
   ]
  },
  {
   "cell_type": "code",
   "execution_count": 24,
   "id": "d0e6f0a4",
   "metadata": {},
   "outputs": [],
   "source": [
    "graph = StateGraph(TweetState)\n",
    "\n",
    "graph.add_node(\"gen_tweet\",gen_tweet)\n",
    "graph.add_node(\"eva_tweet\",eva_tweet)\n",
    "graph.add_node(\"opt_tweet\",opt_tweet)\n",
    "\n",
    "graph.add_edge(START,\"gen_tweet\")\n",
    "graph.add_edge(\"gen_tweet\",\"eva_tweet\")\n",
    "graph.add_conditional_edges(\"eva_tweet\", route, {\"approved\":END, \"needs_improvement\": \"opt_tweet\"})\n",
    "\n",
    "graph.add_edge(\"opt_tweet\",\"eva_tweet\")\n",
    "\n",
    "workflow = graph.compile()"
   ]
  },
  {
   "cell_type": "code",
   "execution_count": 26,
   "id": "2331cb20",
   "metadata": {},
   "outputs": [],
   "source": [
    "initial_state = {\n",
    "    \"topic\": \"srhberhb\",\n",
    "    \"iteration\": 1,\n",
    "    \"max_iter\": 5\n",
    "}\n",
    "result = workflow.invoke(initial_state)"
   ]
  },
  {
   "cell_type": "code",
   "execution_count": 27,
   "id": "0edb3edc",
   "metadata": {},
   "outputs": [
    {
     "data": {
      "text/plain": [
       "{'topic': 'srhberhb',\n",
       " 'tweet': 'Just accidentally typed \"srhberhb\" instead of \"shredded cheese\" and now I\\'m pretty sure I\\'ve summoned a demon. Worth it for the late-night quesadilla, tbh.',\n",
       " 'evaluation': 'approved',\n",
       " 'feedback': \"This tweet is a solid mix of humor and relatability. The accidental demon summoning is a funny, unexpected twist on a common late-night craving. It's concise and well within the character limit, making it easily digestible. The 'worth it' punchline lands well, adding to the humor. The tweet has decent virality potential because many people can relate to late-night food cravings and keyboard mishaps, and the demon summoning adds a unique element. It's an original take on a common theme, making it stand out.\",\n",
       " 'iteration': 1,\n",
       " 'max_iter': 5}"
      ]
     },
     "execution_count": 27,
     "metadata": {},
     "output_type": "execute_result"
    }
   ],
   "source": [
    "result"
   ]
  },
  {
   "cell_type": "code",
   "execution_count": 28,
   "id": "80e25d40",
   "metadata": {},
   "outputs": [
    {
     "data": {
      "image/png": "[encoded data removed]",
      "text/plain": [
       "<langgraph.graph.state.CompiledStateGraph object at 0x00000204387F82F0>"
      ]
     },
     "execution_count": 28,
     "metadata": {},
     "output_type": "execute_result"
    }
   ],
   "source": [
    "workflow"
   ]
  },
  {
   "cell_type": "code",
   "execution_count": null,
   "id": "139cff48",
   "metadata": {},
   "outputs": [],
   "source": []
  }
 ],
 "metadata": {
  "kernelspec": {
   "display_name": ".venv",
   "language": "python",
   "name": "python3"
  },
  "language_info": {
   "codemirror_mode": {
    "name": "ipython",
    "version": 3
   },
   "file_extension": ".py",
   "mimetype": "text/x-python",
   "name": "python",
   "nbconvert_exporter": "python",
   "pygments_lexer": "ipython3",
   "version": "3.12.5"
  }
 },
 "nbformat": 4,
 "nbformat_minor": 5
}
