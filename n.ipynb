{
 "cells": [
  {
   "cell_type": "code",
   "execution_count": 1,
   "id": "38c60b8b",
   "metadata": {},
   "outputs": [],
   "source": [
    "from langchain_google_genai import ChatGoogleGenerativeAI\n",
    "from dotenv import load_dotenv\n",
    "from langgraph.graph import StateGraph, END, START\n",
    "from typing import TypedDict, Literal\n",
    "from pydantic import BaseModel, Field"
   ]
  },
  {
   "cell_type": "code",
   "execution_count": 3,
   "id": "8156585f",
   "metadata": {},
   "outputs": [],
   "source": [
    "load_dotenv()\n",
    "llm = ChatGoogleGenerativeAI(model = \"gemini-2.0-flash\")"
   ]
  },
  {
   "cell_type": "code",
   "execution_count": 5,
   "id": "3567f575",
   "metadata": {},
   "outputs": [],
   "source": [
    "class SentimentSchema(BaseModel):\n",
    "    sentiment: Literal[\"positive\",\"negative\"] = Field(description=\"sentiment of the review\")"
   ]
  },
  {
   "cell_type": "code",
   "execution_count": null,
   "id": "43c75c29",
   "metadata": {},
   "outputs": [],
   "source": [
    "class DiagnosisSchema(BaseModel):\n",
    "    issue_type: Literal[\"UX\", \"Performance\", \"Bug\", \"Support\", \"Other\"] = Field(description='The category of issue mentioned in the review')\n",
    "    tone: Literal[\"angry\", \"frustrated\", \"disappointed\", \"calm\"] = Field(description='The emotional tone expressed by the user')\n",
    "    urgency: Literal[\"low\", \"medium\", \"high\"] = Field(description='How urgent or critical the issue appears to be')"
   ]
  },
  {
   "cell_type": "code",
   "execution_count": 14,
   "id": "04d3c603",
   "metadata": {},
   "outputs": [],
   "source": [
    "struc_llm = llm.with_structured_output(SentimentSchema)\n",
    "struc_llm2 = llm.with_structured_output(DiagnosisSchema)"
   ]
  },
  {
   "cell_type": "code",
   "execution_count": 16,
   "id": "a3cb6a35",
   "metadata": {},
   "outputs": [
    {
     "data": {
      "text/plain": [
       "DiagnosisSchema(issue_type='Other', tone='calm', urgency='low')"
      ]
     },
     "execution_count": 16,
     "metadata": {},
     "output_type": "execute_result"
    }
   ],
   "source": [
    "struc_llm2.invoke(\"hii\")"
   ]
  },
  {
   "cell_type": "code",
   "execution_count": 9,
   "id": "31a88ff8",
   "metadata": {},
   "outputs": [],
   "source": [
    "class ReviewState(TypedDict):\n",
    "    review: str\n",
    "    sentiment: Literal[\"positive\",\"negative\"]\n",
    "    response: str\n",
    "    diagnosis: str"
   ]
  },
  {
   "cell_type": "code",
   "execution_count": null,
   "id": "4a4ffa3a",
   "metadata": {},
   "outputs": [],
   "source": [
    "def find_sentiment(state:ReviewState):\n",
    "    prompt = f\"Find the sentiment of the following review: \\n {state[\"review\"]}\"\n",
    "    output = struc_llm.invoke(prompt).sentiment\n",
    "\n",
    "    return {\"sentiment\":output}\n",
    "\n",
    "def cheackpoint(state: ReviewState)-> Literal[\"positive_response\",\"run_diagnosis\"]:\n",
    "    if state[\"review\"] == \"positive\":\n",
    "        return \"positive_response\"\n",
    "    else:\n",
    "        return \"run_diagnosis\"\n",
    "    \n",
    "def positive_response(state: ReviewState):\n",
    "\n",
    "    prompt = f'''Write a warm thank-you to the response of the review: \n",
    "    {state[\"review\"]}.\n",
    "    and kindly ask for feedback on our website'''\n",
    "    \n",
    "    output = llm.invoke(prompt).content\n",
    "    return {\"response\":output}\n",
    "\n",
    "def run_diagnosis(state:ReviewState):\n",
    "\n",
    "    prompt = f\"\"\"Diagnose this negative review:\\n\\n{state['review']}\\n\"\n",
    "    \"Return issue_type, tone, and urgency.\n",
    "\"\"\"\n",
    "    response = struc_llm2.invoke(prompt)\n",
    "\n",
    "    return {'diagnosis': response.model_dump()}\n",
    "\n",
    "def negative_response(state: ReviewState):\n",
    "\n",
    "    diagnosis = state['diagnosis']\n",
    "\n",
    "    prompt = f\"\"\"You are a support assistant.\n",
    "The user had a '{diagnosis['issue_type']}' issue, sounded '{diagnosis['tone']}', and marked urgency as '{diagnosis['urgency']}'.\n",
    "Write an empathetic, helpful resolution message.\n",
    "\"\"\"\n",
    "    response = llm.invoke(prompt).content\n",
    "\n",
    "    return {'response': response}"
   ]
  },
  {
   "cell_type": "code",
   "execution_count": 20,
   "id": "1b934181",
   "metadata": {},
   "outputs": [],
   "source": [
    "graph = StateGraph(ReviewState)\n",
    "\n",
    "graph.add_node(\"find_sentiment\",find_sentiment)\n",
    "graph.add_node(\"positive_response\",positive_response)\n",
    "graph.add_node(\"run_diagnosis\",run_diagnosis)\n",
    "graph.add_node(\"negative_response\",negative_response)\n",
    "\n",
    "graph.add_edge(START,\"find_sentiment\")\n",
    "graph.add_conditional_edges(\"find_sentiment\",cheackpoint)\n",
    "\n",
    "graph.add_edge(\"positive_response\",END)\n",
    "graph.add_edge(\"run_diagnosis\",\"negative_response\")\n",
    "graph.add_edge(\"negative_response\",END)\n",
    "\n",
    "workflow = graph.compile()\n"
   ]
  },
  {
   "cell_type": "code",
   "execution_count": null,
   "id": "db8686e3",
   "metadata": {},
   "outputs": [],
   "source": [
    "w"
   ]
  }
 ],
 "metadata": {
  "kernelspec": {
   "display_name": ".venv",
   "language": "python",
   "name": "python3"
  },
  "language_info": {
   "codemirror_mode": {
    "name": "ipython",
    "version": 3
   },
   "file_extension": ".py",
   "mimetype": "text/x-python",
   "name": "python",
   "nbconvert_exporter": "python",
   "pygments_lexer": "ipython3",
   "version": "3.12.5"
  }
 },
 "nbformat": 4,
 "nbformat_minor": 5
}
