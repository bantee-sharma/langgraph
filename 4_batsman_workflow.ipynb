{
 "cells": [
  {
   "cell_type": "code",
   "execution_count": 2,
   "id": "87cd229c",
   "metadata": {},
   "outputs": [],
   "source": [
    "from langgraph.graph import StateGraph, END, START\n",
    "from typing import TypedDict"
   ]
  },
  {
   "cell_type": "code",
   "execution_count": null,
   "id": "0a1e0b15",
   "metadata": {},
   "outputs": [],
   "source": [
    "# State\n",
    "\n",
    "class BatsmanState(TypedDict):\n",
    "\n",
    "    runs: int\n",
    "    balls: int\n",
    "    fours: int\n",
    "    sixs: int\n",
    "\n",
    "    strike_rate: float\n",
    "    bpb: float\n",
    "    boundary_percent: float\n",
    "    summary: str"
   ]
  },
  {
   "cell_type": "code",
   "execution_count": 21,
   "id": "14125789",
   "metadata": {},
   "outputs": [],
   "source": [
    "def cal_sr(state:BatsmanState)->BatsmanState:\n",
    "\n",
    "    runs = state[\"runs\"]\n",
    "    balls = state[\"balls\"]\n",
    "\n",
    "    sr = (runs/balls)*100\n",
    "    state[\"strike_rate\"] = round(sr,2)\n",
    "    return state "
   ]
  },
  {
   "cell_type": "code",
   "execution_count": 51,
   "id": "4021ba2f",
   "metadata": {},
   "outputs": [],
   "source": [
    "def cal_bpb(state:BatsmanState)->BatsmanState:\n",
    "\n",
    "    bpb = (state['balls']/(state[\"fours\"]+state[\"sixs\"]))\n",
    "    state[\"bpb\"] = round(bpb,2)\n",
    "    return state"
   ]
  },
  {
   "cell_type": "code",
   "execution_count": 52,
   "id": "e5a00a1d",
   "metadata": {},
   "outputs": [],
   "source": [
    "def boundary_per(state:BatsmanState)->BatsmanState:\n",
    "\n",
    "    runs = state[\"runs\"]\n",
    "    sixs = state[\"sixs\"]\n",
    "    fours = state[\"fours\"]\n",
    "\n",
    "    b_per = ((sixs*6)+(fours*4))/runs*100\n",
    "    state[\"boundary_percent\"]  = round(b_per,2)\n",
    "    return state"
   ]
  },
  {
   "cell_type": "code",
   "execution_count": 53,
   "id": "41ba17ac",
   "metadata": {},
   "outputs": [],
   "source": [
    "graph = StateGraph(BatsmanState)\n",
    "\n",
    "graph.add_node(\"cal_sr\",cal_sr)\n",
    "graph.add_node(\"b_per\",boundary_per)\n",
    "graph.add_node(\"bpb\",cal_bpb)\n",
    "\n",
    "graph.add_edge(START,\"cal_sr\")\n",
    "graph.add_edge(\"cal_sr\",\"b_per\")\n",
    "graph.add_edge(\"b_per\",\"bpb\")\n",
    "graph.add_edge(\"bpb\",END)\n",
    "\n",
    "workflow = graph.compile()"
   ]
  },
  {
   "cell_type": "code",
   "execution_count": 54,
   "id": "1833a45e",
   "metadata": {},
   "outputs": [],
   "source": [
    "intial_sate = {\"runs\":100,\"balls\":80,\"fours\":10,\"sixs\":5}"
   ]
  },
  {
   "cell_type": "code",
   "execution_count": 55,
   "id": "4d57bfda",
   "metadata": {},
   "outputs": [
    {
     "data": {
      "text/plain": [
       "{'runs': 100,\n",
       " 'balls': 80,\n",
       " 'fours': 10,\n",
       " 'sixs': 5,\n",
       " 'strike_rate': 125.0,\n",
       " 'bpb': 5.33,\n",
       " 'boundary_percent': 70.0}"
      ]
     },
     "execution_count": 55,
     "metadata": {},
     "output_type": "execute_result"
    }
   ],
   "source": [
    "final_state = workflow.invoke(intial_sate)\n",
    "final_state"
   ]
  },
  {
   "cell_type": "code",
   "execution_count": 40,
   "id": "57ed2ea7",
   "metadata": {},
   "outputs": [
    {
     "data": {
      "image/png": "[encoded data removed]",
      "text/plain": [
       "<IPython.core.display.Image object>"
      ]
     },
     "execution_count": 40,
     "metadata": {},
     "output_type": "execute_result"
    }
   ],
   "source": [
    "from IPython.display import Image\n",
    "Image(workflow.get_graph().draw_mermaid_png())"
   ]
  },
  {
   "cell_type": "code",
   "execution_count": null,
   "id": "480ac40a",
   "metadata": {},
   "outputs": [],
   "source": []
  }
 ],
 "metadata": {
  "kernelspec": {
   "display_name": ".venv",
   "language": "python",
   "name": "python3"
  },
  "language_info": {
   "codemirror_mode": {
    "name": "ipython",
    "version": 3
   },
   "file_extension": ".py",
   "mimetype": "text/x-python",
   "name": "python",
   "nbconvert_exporter": "python",
   "pygments_lexer": "ipython3",
   "version": "3.12.5"
  }
 },
 "nbformat": 4,
 "nbformat_minor": 5
}
