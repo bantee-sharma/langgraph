{
 "cells": [
  {
   "cell_type": "code",
   "execution_count": 2,
   "id": "87cd229c",
   "metadata": {},
   "outputs": [],
   "source": [
    "from langgraph.graph import StateGraph, END, START\n",
    "from typing import TypedDict"
   ]
  },
  {
   "cell_type": "code",
   "execution_count": 63,
   "id": "0a1e0b15",
   "metadata": {},
   "outputs": [],
   "source": [
    "# Define State\n",
    "class BatsmanState(TypedDict):\n",
    "\n",
    "    runs: int\n",
    "    balls: int\n",
    "    fours: int\n",
    "    sixes: int\n",
    "\n",
    "    strike_rate: float\n",
    "    bpb: float\n",
    "    boundary_percent: float\n",
    "    summary: str"
   ]
  },
  {
   "cell_type": "code",
   "execution_count": 105,
   "id": "14125789",
   "metadata": {},
   "outputs": [],
   "source": [
    "# Calculate Strike-Rate\n",
    "def cal_sr(state:BatsmanState):\n",
    "\n",
    "    runs = state[\"runs\"]\n",
    "    balls = state[\"balls\"]\n",
    "\n",
    "    sr = (runs/balls)*100\n",
    "    \n",
    "    return {\"strike_rate\":sr} "
   ]
  },
  {
   "cell_type": "code",
   "execution_count": 117,
   "id": "4021ba2f",
   "metadata": {},
   "outputs": [],
   "source": [
    "# Calculate Ball per boundary\n",
    "def cal_bpb(state:BatsmanState):\n",
    "\n",
    "    bpb = round((state['balls']/(state[\"fours\"]+state[\"sixes\"])),2)\n",
    "    return {\"bpb\":bpb}"
   ]
  },
  {
   "cell_type": "code",
   "execution_count": 118,
   "id": "e5a00a1d",
   "metadata": {},
   "outputs": [],
   "source": [
    "# Calsulate Boundary Percentage\n",
    "def boundary_per(state:BatsmanState):\n",
    "\n",
    "    runs = state[\"runs\"]\n",
    "    sixes = state[\"sixes\"]\n",
    "    fours = state[\"fours\"]\n",
    "\n",
    "    b_per = ((sixes*6)+(fours*4))/runs*100\n",
    "    return {\"boundary_percent\":b_per}"
   ]
  },
  {
   "cell_type": "code",
   "execution_count": 119,
   "id": "a0f04186",
   "metadata": {},
   "outputs": [],
   "source": [
    "# Summary\n",
    "def summary(state: BatsmanState):\n",
    "\n",
    "    summary = f\"\"\"\n",
    "Strike Rate - {state['strike_rate']} \\n\n",
    "Balls per boundary - {state['bpb']} \\n\n",
    "Boundary percent - {state['boundary_percent']}\n",
    "\"\"\"\n",
    "    \n",
    "    return {'summary': summary}"
   ]
  },
  {
   "cell_type": "code",
   "execution_count": 120,
   "id": "41ba17ac",
   "metadata": {},
   "outputs": [],
   "source": [
    "# Define Graph\n",
    "graph = StateGraph(BatsmanState)\n",
    "\n",
    "# Adding nodes\n",
    "graph.add_node(\"cal_sr\",cal_sr)\n",
    "graph.add_node(\"b_per\",boundary_per)\n",
    "graph.add_node(\"bpb\",cal_bpb)\n",
    "graph.add_node(\"summary\",summary)\n",
    "\n",
    "# Adding Edges\n",
    "graph.add_edge(START,\"cal_sr\")\n",
    "graph.add_edge(START,\"b_per\")\n",
    "graph.add_edge(START,\"bpb\")\n",
    "\n",
    "graph.add_edge(\"cal_sr\",\"summary\")\n",
    "graph.add_edge(\"b_per\",\"summary\")\n",
    "graph.add_edge(\"bpb\",\"summary\")\n",
    "\n",
    "graph.add_edge(\"summary\",END)\n",
    "\n",
    "workflow = graph.compile()"
   ]
  },
  {
   "cell_type": "code",
   "execution_count": 121,
   "id": "1833a45e",
   "metadata": {},
   "outputs": [],
   "source": [
    "intial_sate = {\"runs\":100,\"balls\":80,\"fours\":10,\"sixes\":5}"
   ]
  },
  {
   "cell_type": "code",
   "execution_count": 122,
   "id": "4d57bfda",
   "metadata": {},
   "outputs": [
    {
     "data": {
      "text/plain": [
       "{'runs': 100,\n",
       " 'balls': 80,\n",
       " 'fours': 10,\n",
       " 'sixes': 5,\n",
       " 'strike_rate': 125.0,\n",
       " 'bpb': 5.33,\n",
       " 'boundary_percent': 70.0,\n",
       " 'summary': '\\nStrike Rate - 125.0 \\n\\nBalls per boundary - 5.33 \\n\\nBoundary percent - 70.0\\n'}"
      ]
     },
     "execution_count": 122,
     "metadata": {},
     "output_type": "execute_result"
    }
   ],
   "source": [
    "final_state = workflow.invoke(intial_sate)\n",
    "final_state"
   ]
  },
  {
   "cell_type": "code",
   "execution_count": 61,
   "id": "57ed2ea7",
   "metadata": {},
   "outputs": [
    {
     "data": {
      "image/png": "[encoded data removed]",
      "text/plain": [
       "<IPython.core.display.Image object>"
      ]
     },
     "execution_count": 61,
     "metadata": {},
     "output_type": "execute_result"
    }
   ],
   "source": [
    "from IPython.display import Image\n",
    "Image(workflow.get_graph().draw_mermaid_png())"
   ]
  },
  {
   "cell_type": "code",
   "execution_count": null,
   "id": "480ac40a",
   "metadata": {},
   "outputs": [],
   "source": []
  }
 ],
 "metadata": {
  "kernelspec": {
   "display_name": ".venv",
   "language": "python",
   "name": "python3"
  },
  "language_info": {
   "codemirror_mode": {
    "name": "ipython",
    "version": 3
   },
   "file_extension": ".py",
   "mimetype": "text/x-python",
   "name": "python",
   "nbconvert_exporter": "python",
   "pygments_lexer": "ipython3",
   "version": "3.12.5"
  }
 },
 "nbformat": 4,
 "nbformat_minor": 5
}
